{
 "cells": [
  {
   "cell_type": "code",
   "execution_count": 1,
   "metadata": {},
   "outputs": [
    {
     "name": "stdout",
     "output_type": "stream",
     "text": [
      "Collecting pyspark (from -r requirements.txt (line 1))\n",
      "  Downloading pyspark-3.5.1.tar.gz (317.0 MB)\n",
      "\u001b[2K     \u001b[90m━━━━━━━━━━━━━━━━━━━━━━━━━━━━━━━━━━━━━━━\u001b[0m \u001b[32m317.0/317.0 MB\u001b[0m \u001b[31m1.7 MB/s\u001b[0m eta \u001b[36m0:00:00\u001b[0m00:01\u001b[0m00:03\u001b[0m\n",
      "\u001b[?25h  Installing build dependencies ... \u001b[?25ldone\n",
      "\u001b[?25h  Getting requirements to build wheel ... \u001b[?25ldone\n",
      "\u001b[?25h  Installing backend dependencies ... \u001b[?25ldone\n",
      "\u001b[?25h  Preparing metadata (pyproject.toml) ... \u001b[?25ldone\n",
      "\u001b[?25hCollecting kaggle (from -r requirements.txt (line 2))\n",
      "  Downloading kaggle-1.6.6.tar.gz (84 kB)\n",
      "\u001b[2K     \u001b[90m━━━━━━━━━━━━━━━━━━━━━━━━━━━━━━━━━━━━━━━━\u001b[0m \u001b[32m84.6/84.6 kB\u001b[0m \u001b[31m1.5 MB/s\u001b[0m eta \u001b[36m0:00:00\u001b[0m-:--:--\u001b[0m\n",
      "\u001b[?25h  Installing build dependencies ... \u001b[?25ldone\n",
      "\u001b[?25h  Getting requirements to build wheel ... \u001b[?25ldone\n",
      "\u001b[?25h  Installing backend dependencies ... \u001b[?25ldone\n",
      "\u001b[?25h  Preparing metadata (pyproject.toml) ... \u001b[?25ldone\n",
      "\u001b[?25hCollecting py4j==0.10.9.7 (from pyspark->-r requirements.txt (line 1))\n",
      "  Downloading py4j-0.10.9.7-py2.py3-none-any.whl.metadata (1.5 kB)\n",
      "Requirement already satisfied: six>=1.10 in /Users/erickung/Documents/projects/mox-test/.venv/lib/python3.10/site-packages (from kaggle->-r requirements.txt (line 2)) (1.16.0)\n",
      "Collecting certifi (from kaggle->-r requirements.txt (line 2))\n",
      "  Downloading certifi-2024.2.2-py3-none-any.whl.metadata (2.2 kB)\n",
      "Requirement already satisfied: python-dateutil in /Users/erickung/Documents/projects/mox-test/.venv/lib/python3.10/site-packages (from kaggle->-r requirements.txt (line 2)) (2.9.0.post0)\n",
      "Collecting requests (from kaggle->-r requirements.txt (line 2))\n",
      "  Downloading requests-2.31.0-py3-none-any.whl.metadata (4.6 kB)\n",
      "Collecting tqdm (from kaggle->-r requirements.txt (line 2))\n",
      "  Downloading tqdm-4.66.2-py3-none-any.whl.metadata (57 kB)\n",
      "\u001b[2K     \u001b[90m━━━━━━━━━━━━━━━━━━━━━━━━━━━━━━━━━━━━━━━━\u001b[0m \u001b[32m57.6/57.6 kB\u001b[0m \u001b[31m5.0 MB/s\u001b[0m eta \u001b[36m0:00:00\u001b[0m\n",
      "\u001b[?25hCollecting python-slugify (from kaggle->-r requirements.txt (line 2))\n",
      "  Downloading python_slugify-8.0.4-py2.py3-none-any.whl.metadata (8.5 kB)\n",
      "Collecting urllib3 (from kaggle->-r requirements.txt (line 2))\n",
      "  Downloading urllib3-2.2.1-py3-none-any.whl.metadata (6.4 kB)\n",
      "Collecting bleach (from kaggle->-r requirements.txt (line 2))\n",
      "  Downloading bleach-6.1.0-py3-none-any.whl.metadata (30 kB)\n",
      "Collecting webencodings (from bleach->kaggle->-r requirements.txt (line 2))\n",
      "  Downloading webencodings-0.5.1-py2.py3-none-any.whl.metadata (2.1 kB)\n",
      "Collecting text-unidecode>=1.3 (from python-slugify->kaggle->-r requirements.txt (line 2))\n",
      "  Downloading text_unidecode-1.3-py2.py3-none-any.whl.metadata (2.4 kB)\n",
      "Collecting charset-normalizer<4,>=2 (from requests->kaggle->-r requirements.txt (line 2))\n",
      "  Downloading charset_normalizer-3.3.2-cp310-cp310-macosx_11_0_arm64.whl.metadata (33 kB)\n",
      "Collecting idna<4,>=2.5 (from requests->kaggle->-r requirements.txt (line 2))\n",
      "  Downloading idna-3.6-py3-none-any.whl.metadata (9.9 kB)\n",
      "Downloading py4j-0.10.9.7-py2.py3-none-any.whl (200 kB)\n",
      "\u001b[2K   \u001b[90m━━━━━━━━━━━━━━━━━━━━━━━━━━━━━━━━━━━━━━━━\u001b[0m \u001b[32m200.5/200.5 kB\u001b[0m \u001b[31m10.8 MB/s\u001b[0m eta \u001b[36m0:00:00\u001b[0m\n",
      "\u001b[?25hDownloading bleach-6.1.0-py3-none-any.whl (162 kB)\n",
      "\u001b[2K   \u001b[90m━━━━━━━━━━━━━━━━━━━━━━━━━━━━━━━━━━━━━━━━\u001b[0m \u001b[32m162.8/162.8 kB\u001b[0m \u001b[31m11.0 MB/s\u001b[0m eta \u001b[36m0:00:00\u001b[0m\n",
      "\u001b[?25hDownloading certifi-2024.2.2-py3-none-any.whl (163 kB)\n",
      "\u001b[2K   \u001b[90m━━━━━━━━━━━━━━━━━━━━━━━━━━━━━━━━━━━━━━━━\u001b[0m \u001b[32m163.8/163.8 kB\u001b[0m \u001b[31m5.2 MB/s\u001b[0m eta \u001b[36m0:00:00\u001b[0m\n",
      "\u001b[?25hDownloading python_slugify-8.0.4-py2.py3-none-any.whl (10 kB)\n",
      "Downloading requests-2.31.0-py3-none-any.whl (62 kB)\n",
      "\u001b[2K   \u001b[90m━━━━━━━━━━━━━━━━━━━━━━━━━━━━━━━━━━━━━━━━\u001b[0m \u001b[32m62.6/62.6 kB\u001b[0m \u001b[31m2.9 MB/s\u001b[0m eta \u001b[36m0:00:00\u001b[0m\n",
      "\u001b[?25hDownloading urllib3-2.2.1-py3-none-any.whl (121 kB)\n",
      "\u001b[2K   \u001b[90m━━━━━━━━━━━━━━━━━━━━━━━━━━━━━━━━━━━━━━━━\u001b[0m \u001b[32m121.1/121.1 kB\u001b[0m \u001b[31m12.9 MB/s\u001b[0m eta \u001b[36m0:00:00\u001b[0m\n",
      "\u001b[?25hDownloading tqdm-4.66.2-py3-none-any.whl (78 kB)\n",
      "\u001b[2K   \u001b[90m━━━━━━━━━━━━━━━━━━━━━━━━━━━━━━━━━━━━━━━━\u001b[0m \u001b[32m78.3/78.3 kB\u001b[0m \u001b[31m5.2 MB/s\u001b[0m eta \u001b[36m0:00:00\u001b[0m\n",
      "\u001b[?25hDownloading charset_normalizer-3.3.2-cp310-cp310-macosx_11_0_arm64.whl (120 kB)\n",
      "\u001b[2K   \u001b[90m━━━━━━━━━━━━━━━━━━━━━━━━━━━━━━━━━━━━━━━━\u001b[0m \u001b[32m120.4/120.4 kB\u001b[0m \u001b[31m9.7 MB/s\u001b[0m eta \u001b[36m0:00:00\u001b[0m\n",
      "\u001b[?25hDownloading idna-3.6-py3-none-any.whl (61 kB)\n",
      "\u001b[2K   \u001b[90m━━━━━━━━━━━━━━━━━━━━━━━━━━━━━━━━━━━━━━━━\u001b[0m \u001b[32m61.6/61.6 kB\u001b[0m \u001b[31m7.5 MB/s\u001b[0m eta \u001b[36m0:00:00\u001b[0m\n",
      "\u001b[?25hDownloading text_unidecode-1.3-py2.py3-none-any.whl (78 kB)\n",
      "\u001b[2K   \u001b[90m━━━━━━━━━━━━━━━━━━━━━━━━━━━━━━━━━━━━━━━━\u001b[0m \u001b[32m78.2/78.2 kB\u001b[0m \u001b[31m9.2 MB/s\u001b[0m eta \u001b[36m0:00:00\u001b[0m\n",
      "\u001b[?25hDownloading webencodings-0.5.1-py2.py3-none-any.whl (11 kB)\n",
      "Building wheels for collected packages: pyspark, kaggle\n",
      "  Building wheel for pyspark (pyproject.toml) ... \u001b[?25ldone\n",
      "\u001b[?25h  Created wheel for pyspark: filename=pyspark-3.5.1-py2.py3-none-any.whl size=317488491 sha256=7cf178c123305e3645196b3a750643686a1825723198a6d67deb96fcbbdad0d1\n",
      "  Stored in directory: /Users/erickung/Library/Caches/pip/wheels/80/1d/60/2c256ed38dddce2fdd93be545214a63e02fbd8d74fb0b7f3a6\n",
      "  Building wheel for kaggle (pyproject.toml) ... \u001b[?25ldone\n",
      "\u001b[?25h  Created wheel for kaggle: filename=kaggle-1.6.6-py3-none-any.whl size=111941 sha256=3ad8ab886f43722d2afd1106e8d5c489e1bd77dcb3d49e949d41461c76550b37\n",
      "  Stored in directory: /Users/erickung/Library/Caches/pip/wheels/53/34/8c/8ca3450d17206d9e37e1ee3aeb47cbb2873d22a9e0c60eb137\n",
      "Successfully built pyspark kaggle\n",
      "Installing collected packages: webencodings, text-unidecode, py4j, urllib3, tqdm, python-slugify, pyspark, idna, charset-normalizer, certifi, bleach, requests, kaggle\n",
      "Successfully installed bleach-6.1.0 certifi-2024.2.2 charset-normalizer-3.3.2 idna-3.6 kaggle-1.6.6 py4j-0.10.9.7 pyspark-3.5.1 python-slugify-8.0.4 requests-2.31.0 text-unidecode-1.3 tqdm-4.66.2 urllib3-2.2.1 webencodings-0.5.1\n"
     ]
    }
   ],
   "source": [
    "!pip install -r requirements.txt"
   ]
  },
  {
   "cell_type": "code",
   "execution_count": 16,
   "metadata": {},
   "outputs": [],
   "source": [
    "import json\n",
    "import os\n",
    "import zipfile\n",
    "import subprocess\n",
    "import pyspark.sql.functions as F\n",
    "\n",
    "from pyspark.sql import SparkSession\n",
    "from pyspark.sql.functions import col, collect_list, count, last, lag, row_number, substring_index, input_file_name, regexp_extract, expr, concat_ws, map_from_entries, explode, struct\n",
    "from pyspark.sql.window import Window"
   ]
  },
  {
   "cell_type": "code",
   "execution_count": 4,
   "metadata": {},
   "outputs": [
    {
     "name": "stdout",
     "output_type": "stream",
     "text": [
      "\n"
     ]
    }
   ],
   "source": [
    "def init_on_kaggle(username, api_key):\n",
    "    KAGGLE_CONFIG_DIR = os.path.join(os.path.expandvars('$HOME'), '.kaggle')\n",
    "    os.makedirs(KAGGLE_CONFIG_DIR, exist_ok = True)\n",
    "    api_dict = {\n",
    "        \"username\": username, \n",
    "        \"key\": api_key\n",
    "    } \n",
    "    with open(f\"{KAGGLE_CONFIG_DIR}/kaggle.json\", \"w\", encoding='utf-8') as f:\n",
    "        json.dump(api_dict, f)\n",
    "    cmd = f\"chmod 600 {KAGGLE_CONFIG_DIR}/kaggle.json\"\n",
    "    output = subprocess.check_output(cmd.split(\" \"))\n",
    "    output = output.decode(encoding='UTF-8')\n",
    "    print(output)\n",
    "\n",
    "init_on_kaggle('testexerciseuser', '1ab7db4952d8bca38e7357e5d4dbdd35')"
   ]
  },
  {
   "cell_type": "code",
   "execution_count": 14,
   "metadata": {},
   "outputs": [
    {
     "name": "stdout",
     "output_type": "stream",
     "text": [
      "\n"
     ]
    }
   ],
   "source": [
    "import kaggle\n",
    "\n",
    "datasets = kaggle.api.dataset_list(search=\"coronavirus-covid19-tweets-early-april\")\n",
    "\n",
    "kaggle.api.dataset_download_files(vars(datasets[0])['ref'], path=\"csv/\")\n",
    "\n",
    "with zipfile.ZipFile(f'csv/{vars(datasets[0])[\"ref\"].split(\"/\")[1]}.zip', 'r') as zip_ref:\n",
    "    zip_ref.extractall('csv')"
   ]
  },
  {
   "cell_type": "code",
   "execution_count": 2,
   "metadata": {},
   "outputs": [
    {
     "name": "stderr",
     "output_type": "stream",
     "text": [
      "24/03/25 01:37:08 WARN Utils: Your hostname, kWs-MacBook-Pro-2019.local resolves to a loopback address: 127.0.0.1; using 192.168.1.205 instead (on interface en0)\n",
      "24/03/25 01:37:08 WARN Utils: Set SPARK_LOCAL_IP if you need to bind to another address\n",
      "Setting default log level to \"WARN\".\n",
      "To adjust logging level use sc.setLogLevel(newLevel). For SparkR, use setLogLevel(newLevel).\n",
      "24/03/25 01:37:09 WARN NativeCodeLoader: Unable to load native-hadoop library for your platform... using builtin-java classes where applicable\n"
     ]
    }
   ],
   "source": [
    "sp = SparkSession.builder.getOrCreate()"
   ]
  },
  {
   "cell_type": "code",
   "execution_count": 3,
   "metadata": {},
   "outputs": [
    {
     "name": "stderr",
     "output_type": "stream",
     "text": [
      "                                                                                \r"
     ]
    },
    {
     "name": "stdout",
     "output_type": "stream",
     "text": [
      "+-------------------+-------------------+--------------------+---------------+--------------------+--------------------+------------------+----------------+--------------------+--------+----------+----------------+-------------+------------+---------------+----------+---------------+-------------+------------+--------------------+--------+----+----------+--------------------+\n",
      "|          status_id|            user_id|          created_at|    screen_name|                text|              source|reply_to_status_id|reply_to_user_id|reply_to_screen_name|is_quote|is_retweet|favourites_count|retweet_count|country_code|place_full_name|place_type|followers_count|friends_count|account_lang|  account_created_at|verified|lang|tweet_date|            hashtags|\n",
      "+-------------------+-------------------+--------------------+---------------+--------------------+--------------------+------------------+----------------+--------------------+--------+----------+----------------+-------------+------------+---------------+----------+---------------+-------------+------------+--------------------+--------+----+----------+--------------------+\n",
      "|1244051646071611394| 860252856829587457|2020-03-29T00:00:00Z|   IMSS_SanLuis|Ante cualquier en...|           TweetDeck|              NULL|            NULL|                NULL|   FALSE|     FALSE|             300|            0|        NULL|           NULL|      NULL|           1008|           41|        NULL|2017-05-04T22:00:38Z|   FALSE|  es|2020-03-29|[#Prevenci, #Coro...|\n",
      "|1244051645039706112|1125933654943895553|2020-03-29T00:00:00Z|     intrac_ccs|#ATENCIÓN En el T...|           TweetDeck|              NULL|            NULL|                NULL|   FALSE|     FALSE|            1030|            1|        NULL|           NULL|      NULL|             90|          316|        NULL|2019-05-08T01:21:16Z|   FALSE|  es|2020-03-29|[#ATENCI, #Corona...|\n",
      "|1244051645975191557|           80943559|2020-03-29T00:00:00Z|       rlieving|“People are just ...|           TweetDeck|              NULL|            NULL|                NULL|   FALSE|     FALSE|             604|            0|        NULL|           NULL|      NULL|            136|          457|        NULL|2009-10-08T21:06:08Z|   FALSE|  en|2020-03-29|[#minneapolis, #m...|\n",
      "|1244051646750928897| 817072420947247104|2020-03-29T00:00:00Z|   Tu_IMSS_Coah|Si empezaste a tr...|           TweetDeck|              NULL|            NULL|                NULL|   FALSE|     FALSE|            1827|            0|        NULL|           NULL|      NULL|           1549|          170|        NULL|2017-01-05T18:17:00Z|   FALSE|  es|2020-03-29|[#IMSS, #SanaDist...|\n",
      "|1244051647032102914| 788863557349670913|2020-03-29T00:00:00Z|   Tabasco_IMSS|Una sociedad info...|           TweetDeck|              NULL|            NULL|                NULL|   FALSE|     FALSE|             723|            0|        NULL|           NULL|      NULL|            868|          125|        NULL|2016-10-19T22:05:03Z|   FALSE|  es|2020-03-29|[#Coronavirus, #C...|\n",
      "|1244051645710897155|          132225222|2020-03-29T00:00:00Z|      SSalud_mx|¡#Infórmate! #Con...|           TweetDeck|              NULL|            NULL|                NULL|   FALSE|     FALSE|            3954|           49|        NULL|           NULL|      NULL|         812318|          212|        NULL|2010-04-12T16:53:45Z|    TRUE|  es|2020-03-29|[#Inf, #Conferenc...|\n",
      "|1244051646935633921|           27922157|2020-03-29T00:00:00Z|AmerMedicalAssn|.@PatriceHarrisMD...|            Sprinklr|              NULL|            NULL|                NULL|   FALSE|     FALSE|            2894|            3|        NULL|           NULL|      NULL|         714952|         6877|        NULL|2009-03-31T17:50:31Z|    TRUE|  en|2020-03-29|[#COVID19, #pande...|\n",
      "|1244051645971025920|         1115874631|2020-03-29T00:00:00Z|   CGTNOfficial|First medical tea...|Twitter Media Studio|              NULL|            NULL|                NULL|   FALSE|     FALSE|              65|           18|        NULL|           NULL|      NULL|       14040072|           55|        NULL|2013-01-24T03:18:59Z|    TRUE|  en|2020-03-29|[#Wuhan, #COVID19...|\n",
      "|1244051646151380995|         2547795564|2020-03-29T00:00:00Z|  Alaraby_Sport|هكذا ساهم نجم كرة...|           TweetDeck|              NULL|            NULL|                NULL|   FALSE|     FALSE|              36|            0|        NULL|           NULL|      NULL|          36953|         1003|        NULL|2014-06-05T09:50:31Z|    TRUE|  ar|2020-03-29|          [#COVID19]|\n",
      "|1244051647149543426|          108845320|2020-03-29T00:00:00Z|       OnTopMag|.@KathyGriffin: @...|Twitter for Adver...|              NULL|            NULL|                NULL|   FALSE|     FALSE|            2658|            1|        NULL|           NULL|      NULL|           5042|         5389|        NULL|2010-01-27T05:23:15Z|   FALSE|  en|2020-03-29|[#Coronavirus, #c...|\n",
      "|1244051645039693824|1042498579909107712|2020-03-29T00:00:00Z|ContraReplicaMX|A pesar de la con...|           TweetDeck|              NULL|            NULL|                NULL|   FALSE|     FALSE|            5671|            0|        NULL|           NULL|      NULL|          13287|         2559|        NULL|2018-09-19T19:40:04Z|   FALSE|  es|2020-03-29|          [#Covid19]|\n",
      "|1244051646469947399|          121849420|2020-03-29T00:00:00Z|        SSC_Pue|Ya sea a pie, en ...|           TweetDeck|              NULL|            NULL|                NULL|   FALSE|     FALSE|            1726|            3|        NULL|           NULL|      NULL|         297013|          223|        NULL|2010-03-10T20:04:51Z|   FALSE|  es|2020-03-29|     [#COVID19, #Qu]|\n",
      "|1244051645098528768|1239901273002033155|2020-03-29T00:00:00Z|        uri_911|#VEN911Oficial | ...|           TweetDeck|              NULL|            NULL|                NULL|   FALSE|     FALSE|             441|            0|        NULL|           NULL|      NULL|             66|           74|        NULL|2020-03-17T13:09:13Z|   FALSE|  es|2020-03-29|[#VEN911Oficial, ...|\n",
      "|1244051646113443841| 961689052977225729|2020-03-29T00:00:00Z|     SecAytoPue|¿Qué es el corona...|           TweetDeck|              NULL|            NULL|                NULL|   FALSE|     FALSE|             312|            0|        NULL|           NULL|      NULL|           2251|          788|        NULL|2018-02-08T19:51:52Z|   FALSE|  es|2020-03-29|          [#COVID19]|\n",
      "|1244051645102579712|           17673635|2020-03-29T00:00:00Z|       livemint|#CoronaUpdate | J...|           TweetDeck|              NULL|            NULL|                NULL|   FALSE|     FALSE|             474|            2|        NULL|           NULL|      NULL|        1862858|          127|        NULL|2008-11-27T09:07:38Z|    TRUE|  en|2020-03-29|[#CoronaUpdate, #...|\n",
      "|1244051647329779713|           34639484|2020-03-29T00:00:00Z|    DiarioLibre|| #Coronavirus | ...|           TweetDeck|              NULL|            NULL|                NULL|   FALSE|     FALSE|             321|           12|        NULL|           NULL|      NULL|        1185042|        23738|        NULL|2009-04-23T15:23:32Z|    TRUE|  es|2020-03-29|[#Coronavirus, #D...|\n",
      "|1244051646415425536|          167391967|2020-03-29T00:00:00Z|  lahoraecuador|Debido a la emerg...|           TweetDeck|              NULL|            NULL|                NULL|   FALSE|     FALSE|            2384|           19|        NULL|           NULL|      NULL|         534729|         1696|        NULL|2010-07-16T13:33:27Z|   FALSE|  es|2020-03-29|[#Ecuador, #Covid19]|\n",
      "|1244051647418044418|           15872418|2020-03-29T00:00:00Z|     ABSCBNNews|Singapore donates...|           TweetDeck|              NULL|            NULL|                NULL|   FALSE|     FALSE|            1073|          840|        NULL|           NULL|      NULL|        6767144|         1075|        NULL|2008-08-16T10:09:33Z|    TRUE|  en|2020-03-29|          [#COVID19]|\n",
      "|1244051646100967425| 805693014412763136|2020-03-29T00:00:00Z|dailyaajupdates|سعودی حکام نے امس...|           TweetDeck|              NULL|            NULL|                NULL|   FALSE|     FALSE|              18|            0|        NULL|           NULL|      NULL|           1325|           32|        NULL|2016-12-05T08:39:18Z|   FALSE|  ur|2020-03-29|[#DailyAAJUpdates...|\n",
      "|1244051645111074817|          171548670|2020-03-29T00:00:00Z|    RadioNLNews|It's been a remar...|           TweetDeck|              NULL|            NULL|                NULL|   FALSE|     FALSE|             498|            0|        NULL|           NULL|      NULL|           6929|         2137|        NULL|2010-07-27T16:17:02Z|   FALSE|  en|2020-03-29|[#COVID19, #bcpol...|\n",
      "+-------------------+-------------------+--------------------+---------------+--------------------+--------------------+------------------+----------------+--------------------+--------+----------+----------------+-------------+------------+---------------+----------+---------------+-------------+------------+--------------------+--------+----+----------+--------------------+\n",
      "only showing top 20 rows\n",
      "\n"
     ]
    }
   ],
   "source": [
    "src_df = sp.read\\\n",
    "   .option(\"escapeQuotes\", \"true\")\\\n",
    "   .option(\"multiLine\", \"true\")\\\n",
    "   .csv(\n",
    "      'csv/2020-03-29 Coronavirus Tweets.CSV', \n",
    "      header=True,\n",
    "      quote='\"',\n",
    "      escape='\\\"',\n",
    "   )\\\n",
    "   .withColumn(\n",
    "      \"tweet_date\", \n",
    "      regexp_extract(input_file_name(), \"/(\\d{4}-\\d{2}-\\d{2})\", 1)\n",
    "   )\\\n",
    "   .withColumn('hashtags', expr(r\"regexp_extract_all(text, '(#\\\\w+)', 0)\") )\n",
    "\n",
    "src_df.show()"
   ]
  },
  {
   "cell_type": "code",
   "execution_count": null,
   "metadata": {},
   "outputs": [],
   "source": []
  },
  {
   "cell_type": "code",
   "execution_count": null,
   "metadata": {},
   "outputs": [],
   "source": []
  },
  {
   "cell_type": "code",
   "execution_count": 100,
   "metadata": {},
   "outputs": [
    {
     "name": "stdout",
     "output_type": "stream",
     "text": [
      "+----------+-------------------+--------------------+--------------------+---------------+--------------------+\n",
      "|tweet_date|            user_id|            hashtags|              source|    screen_name|          created_at|\n",
      "+----------+-------------------+--------------------+--------------------+---------------+--------------------+\n",
      "|2020-03-29| 860252856829587457|[#Prevenci, #Coro...|           TweetDeck|   IMSS_SanLuis|2020-03-29T00:00:00Z|\n",
      "|2020-03-29|1125933654943895553|[#ATENCI, #Corona...|           TweetDeck|     intrac_ccs|2020-03-29T00:00:00Z|\n",
      "|2020-03-29|           80943559|[#minneapolis, #m...|           TweetDeck|       rlieving|2020-03-29T00:00:00Z|\n",
      "|2020-03-29| 817072420947247104|[#IMSS, #SanaDist...|           TweetDeck|   Tu_IMSS_Coah|2020-03-29T00:00:00Z|\n",
      "|2020-03-29| 788863557349670913|[#Coronavirus, #C...|           TweetDeck|   Tabasco_IMSS|2020-03-29T00:00:00Z|\n",
      "|2020-03-29|          132225222|[#Inf, #Conferenc...|           TweetDeck|      SSalud_mx|2020-03-29T00:00:00Z|\n",
      "|2020-03-29|           27922157|[#COVID19, #pande...|            Sprinklr|AmerMedicalAssn|2020-03-29T00:00:00Z|\n",
      "|2020-03-29|         1115874631|[#Wuhan, #COVID19...|Twitter Media Studio|   CGTNOfficial|2020-03-29T00:00:00Z|\n",
      "|2020-03-29|         2547795564|          [#COVID19]|           TweetDeck|  Alaraby_Sport|2020-03-29T00:00:00Z|\n",
      "|2020-03-29|          108845320|[#Coronavirus, #c...|Twitter for Adver...|       OnTopMag|2020-03-29T00:00:00Z|\n",
      "|2020-03-29|1042498579909107712|          [#Covid19]|           TweetDeck|ContraReplicaMX|2020-03-29T00:00:00Z|\n",
      "|2020-03-29|          121849420|     [#COVID19, #Qu]|           TweetDeck|        SSC_Pue|2020-03-29T00:00:00Z|\n",
      "|2020-03-29|1239901273002033155|[#VEN911Oficial, ...|           TweetDeck|        uri_911|2020-03-29T00:00:00Z|\n",
      "|2020-03-29| 961689052977225729|          [#COVID19]|           TweetDeck|     SecAytoPue|2020-03-29T00:00:00Z|\n",
      "|2020-03-29|           17673635|[#CoronaUpdate, #...|           TweetDeck|       livemint|2020-03-29T00:00:00Z|\n",
      "|2020-03-29|           34639484|[#Coronavirus, #D...|           TweetDeck|    DiarioLibre|2020-03-29T00:00:00Z|\n",
      "|2020-03-29|          167391967|[#Ecuador, #Covid19]|           TweetDeck|  lahoraecuador|2020-03-29T00:00:00Z|\n",
      "|2020-03-29|           15872418|          [#COVID19]|           TweetDeck|     ABSCBNNews|2020-03-29T00:00:00Z|\n",
      "|2020-03-29| 805693014412763136|[#DailyAAJUpdates...|           TweetDeck|dailyaajupdates|2020-03-29T00:00:00Z|\n",
      "|2020-03-29|          171548670|[#COVID19, #bcpol...|           TweetDeck|    RadioNLNews|2020-03-29T00:00:00Z|\n",
      "+----------+-------------------+--------------------+--------------------+---------------+--------------------+\n",
      "only showing top 20 rows\n",
      "\n"
     ]
    }
   ],
   "source": [
    "# q1\n",
    "\n",
    "derived_df1 = src_df.select(\n",
    "   \"tweet_date\",\n",
    "   \"user_id\",\n",
    "   \"hashtags\",\n",
    "   \"source\",\n",
    "   \"screen_name\",\n",
    "   \"created_at\",\n",
    ").withColumn(\n",
    "   \"screen_name\", \n",
    "   last(\"screen_name\")\\\n",
    "      .over(Window.partitionBy(\"user_id\", \"tweet_date\").orderBy(col(\"created_at\").desc()))\n",
    ")\n",
    "\n",
    "derived_df1.show()"
   ]
  },
  {
   "cell_type": "code",
   "execution_count": 121,
   "metadata": {},
   "outputs": [
    {
     "name": "stderr",
     "output_type": "stream",
     "text": [
      "[Stage 133:>                                                        (0 + 1) / 1]\r"
     ]
    },
    {
     "name": "stdout",
     "output_type": "stream",
     "text": [
      "+----------+-------------------+----------+--------------------+--------------------+---------------+\n",
      "|tweet_date|            user_id|num_tweets|            hashtags|       tweet_sources|    screen_name|\n",
      "+----------+-------------------+----------+--------------------+--------------------+---------------+\n",
      "|2020-03-29|         1000002758|         1|          [#COVID19]|{Twitter for Andr...| dreams_tiffany|\n",
      "|2020-03-29|1000044336103469057|         1|[#Cristo, #cristo...|{Twitter for iPho...|       ByteDeFe|\n",
      "|2020-03-29|1000051189986177025|         1|[#Covid_19, #Supp...|{Twitter for Andr...|     castjunkie|\n",
      "|2020-03-29|1000051619009003522|         1|[#lockdown, #COVI...|{Twitter for Andr...|affordablelawng|\n",
      "|2020-03-29|1000128817690705921|         2|         [#Covid_19]|{Twitter for Andr...|        AjammaS|\n",
      "|2020-03-29|1000128817690705921|         2|      [#coronavirus]|{Twitter for Andr...|        AjammaS|\n",
      "|2020-03-29|1000138722795491328|         1|          [#COVID19]|{Twitter for Andr...|  LiveCinemaMx1|\n",
      "|2020-03-29|1000155762478510081|         1|[#neksflis, #vaka...|{Twitter for Andr...|   ahmetcakar_1|\n",
      "|2020-03-29|1000156572906115072|         1|[#MexicoUnido, #M...|{Twitter for Andr...|RobertoSolori14|\n",
      "|2020-03-29|1000177695357976576|         1|[#corona, #corona...|    {Instagram -> 1}|    BaldinoRick|\n",
      "|2020-03-29|          100018348|         1|[#coronavirus, #C...|{Twitter for iPho...|  ricardo_neyra|\n",
      "|2020-03-29|1000191004450873344|         1|[#COVID19, #COVID...|{Twitter for Andr...|      CinemAwe_|\n",
      "|2020-03-29|1000192318874451968|         2|[#TrumpVirus, #Co...|{Twitter for iPho...|     annkim0502|\n",
      "|2020-03-29|1000192318874451968|         2|[#TrumpMadness, #...|{Twitter for iPho...|     annkim0502|\n",
      "|2020-03-29|1000206233868095488|         1|[#CoronaVirusUpda...|{Twitter for Andr...|          aytgh|\n",
      "|2020-03-29|1000226304346730497|         1|[#Covid_19, #Coro...|{Twitter for Andr...| alyan_hussnain|\n",
      "|2020-03-29|1000229942754533376|         1|[#coronavirus, #C...|{Twitter for Andr...| saucdgodsavage|\n",
      "|2020-03-29|1000247935148412928|         1|[#Sundaynightsup,...|{Twitter for Andr...|  Mike____kelly|\n",
      "|2020-03-29|         1000289028|         2|[#coronavirus, #N...|{Twitter for Andr...|       QariAsim|\n",
      "|2020-03-29|         1000289028|         2|[#Imams, #online,...|{Twitter for Andr...|       QariAsim|\n",
      "+----------+-------------------+----------+--------------------+--------------------+---------------+\n",
      "only showing top 20 rows\n",
      "\n"
     ]
    },
    {
     "name": "stderr",
     "output_type": "stream",
     "text": [
      "                                                                                \r"
     ]
    }
   ],
   "source": [
    "\n",
    "derived_df1 = derived_df1.groupBy(\n",
    "   \"tweet_date\",\n",
    "   \"user_id\",\n",
    ").agg(\n",
    "   count(\"*\").alias(\"num_tweets\"),\n",
    "   F.max(\"screen_name\").alias(\"screen_name\"),\n",
    "   collect_list(\"source\").alias(\"source_list\"),\n",
    "   collect_list(\"hashtags\").alias(\"hashtags\"),\n",
    ").withColumn(\n",
    "   \"source_count\", \n",
    "   F.size(\"source_list\")\n",
    ").withColumn(\n",
    "   \"tweet_sources\", \n",
    "   map_from_entries(\n",
    "      expr(\"transform(array_distinct(source_list), x -> struct(x, size(filter(source_list, y -> y = x))))\")\n",
    "   )\n",
    ").withColumn(\n",
    "   \"hashtags\",\n",
    "   explode(\"hashtags\")\n",
    ")\n",
    "\n",
    "derived_df1 = derived_df1.select(\n",
    "   \"tweet_date\",\n",
    "   \"user_id\",\n",
    "   \"num_tweets\",\n",
    "   \"hashtags\",\n",
    "   \"tweet_sources\",\n",
    "   \"screen_name\",\n",
    ")\n",
    "\n",
    "derived_df1.show()"
   ]
  },
  {
   "cell_type": "code",
   "execution_count": 21,
   "metadata": {},
   "outputs": [
    {
     "name": "stdout",
     "output_type": "stream",
     "text": [
      "+----------+-------------------+-------------------+-------------------+--------------------+\n",
      "|reply_date|      reply_user_id|   original_user_id| reply_to_status_id|            reply_at|\n",
      "+----------+-------------------+-------------------+-------------------+--------------------+\n",
      "|2020-03-29|           26663983|           67038807|1243928169243123712|2020-03-29T00:00:01Z|\n",
      "|2020-03-29| 705880882955968512|               NULL|               NULL|2020-03-29T00:00:01Z|\n",
      "|2020-03-29|1015324973051899904|               NULL|               NULL|2020-03-29T00:00:03Z|\n",
      "|2020-03-29|          322312808|               NULL|               NULL|2020-03-29T00:00:03Z|\n",
      "|2020-03-29|1208463505654812672|               NULL|               NULL|2020-03-29T00:00:05Z|\n",
      "|2020-03-29| 880962856467877888|               NULL|               NULL|2020-03-29T00:00:05Z|\n",
      "|2020-03-29|          139283160|               NULL|               NULL|2020-03-29T00:00:06Z|\n",
      "|2020-03-29|          205649776|               NULL|               NULL|2020-03-29T00:00:07Z|\n",
      "|2020-03-29|          176634419|               NULL|               NULL|2020-03-29T00:00:11Z|\n",
      "|2020-03-29|           78427460|               NULL|               NULL|2020-03-29T00:00:11Z|\n",
      "|2020-03-29|          724459069|               NULL|               NULL|2020-03-29T00:00:12Z|\n",
      "|2020-03-29|1238703545219768320|               NULL|               NULL|2020-03-29T00:00:12Z|\n",
      "|2020-03-29|         1019989321|         1019989321|1244051036072841216|2020-03-29T00:00:14Z|\n",
      "|2020-03-29|         1216303208|               NULL|               NULL|2020-03-29T00:00:14Z|\n",
      "|2020-03-29|         1564437038|               NULL|               NULL|2020-03-29T00:00:14Z|\n",
      "|2020-03-29| 723608486593073155|1011970623470489601|1244030173361700867|2020-03-29T00:00:14Z|\n",
      "|2020-03-29|           44798696|               NULL|               NULL|2020-03-29T00:00:18Z|\n",
      "|2020-03-29|          797432424|          296260628|               NULL|2020-03-29T00:00:19Z|\n",
      "|2020-03-29|          240532719|               NULL|               NULL|2020-03-29T00:00:21Z|\n",
      "|2020-03-29|1205306979041845250|               NULL|               NULL|2020-03-29T00:00:27Z|\n",
      "+----------+-------------------+-------------------+-------------------+--------------------+\n",
      "only showing top 20 rows\n",
      "\n"
     ]
    }
   ],
   "source": [
    "derived_df2_quote = src_df\\\n",
    ".filter(col(\"is_quote\") == \"TRUE\")\\\n",
    ".select(\n",
    "    \"tweet_date\",\n",
    "    \"user_id\",\n",
    "    \"reply_to_user_id\",\n",
    "    \"reply_to_status_id\",\n",
    "    \"created_at\",\n",
    ")\\\n",
    ".withColumnRenamed(\"user_id\", \"reply_user_id\")\\\n",
    ".withColumnRenamed(\"tweet_date\", \"reply_date\")\\\n",
    ".withColumnRenamed(\"reply_to_user_id\", \"original_user_id\")\\\n",
    ".withColumnRenamed(\"created_at\", \"reply_at\")\n",
    "\n",
    "\n",
    "derived_df2_quote.show()"
   ]
  },
  {
   "cell_type": "code",
   "execution_count": 29,
   "metadata": {},
   "outputs": [
    {
     "name": "stderr",
     "output_type": "stream",
     "text": [
      "[Stage 90:>                                                         (0 + 1) / 1]\r"
     ]
    },
    {
     "name": "stdout",
     "output_type": "stream",
     "text": [
      "+----------+-------------------+-------------------+--------------------+------------+\n",
      "|reply_date|      reply_user_id|   original_user_id|         reply_delay|tweet_number|\n",
      "+----------+-------------------+-------------------+--------------------+------------+\n",
      "|2020-03-29|          528479211|          528479211|INTERVAL '0 00:23...|           1|\n",
      "|2020-03-29|1089269762088157184|           68297567|INTERVAL '0 00:02...|           1|\n",
      "|2020-03-29|           57049566|           52544275|INTERVAL '0 06:06...|           1|\n",
      "|2020-03-29|1183474645414154240|1183474645414154240|INTERVAL '0 00:07...|           1|\n",
      "|2020-03-29|          493434642|          493434642|INTERVAL '0 00:07...|           1|\n",
      "|2020-03-29|           23023227|           23023227|INTERVAL '0 00:05...|           1|\n",
      "|2020-03-29|         1067293117|         1067293117|INTERVAL '0 00:01...|           1|\n",
      "|2020-03-29|1195054295999074304|         2854166772|INTERVAL '0 03:29...|           1|\n",
      "|2020-03-29|          888027091|          888027091|INTERVAL '0 00:10...|           1|\n",
      "|2020-03-29|          888027091|          888027091|INTERVAL '0 00:34...|           2|\n",
      "|2020-03-29|         2426459052|         2426459052|INTERVAL '0 01:32...|           1|\n",
      "|2020-03-29|           15388404|           15388404|INTERVAL '0 00:00...|           1|\n",
      "|2020-03-29| 872685323280678912| 872685323280678912|INTERVAL '0 00:26...|           1|\n",
      "|2020-03-29|           15388404|           15388404|INTERVAL '0 00:01...|           1|\n",
      "|2020-03-29|         4052449996|         4052449996|INTERVAL '0 00:00...|           1|\n",
      "|2020-03-29|         4052449996|         4052449996|INTERVAL '0 00:13...|           2|\n",
      "|2020-03-29|         2426459052|         2426459052|INTERVAL '0 01:08...|           1|\n",
      "|2020-03-29| 900971346556891136| 900971346556891136|INTERVAL '0 00:00...|           1|\n",
      "|2020-03-29| 900971346556891136| 900971346556891136|INTERVAL '0 01:28...|           2|\n",
      "|2020-03-29|          367876304|          367876304|INTERVAL '0 00:11...|           1|\n",
      "+----------+-------------------+-------------------+--------------------+------------+\n",
      "only showing top 20 rows\n",
      "\n"
     ]
    },
    {
     "name": "stderr",
     "output_type": "stream",
     "text": [
      "                                                                                \r"
     ]
    }
   ],
   "source": [
    "derived_df2 = derived_df2_quote.alias(\"df1\").join(\n",
    "   src_df.select(\n",
    "      \"user_id\",\n",
    "      \"created_at\",\n",
    "      \"status_id\",\n",
    "   ).alias(\"df2\"),\n",
    "   col(\"df1.reply_to_status_id\") == col(\"df2.status_id\"),\n",
    "   \"left\"\n",
    ").withColumn(\n",
    "   'reply_delay',\n",
    "   F.when(\n",
    "      col(\"status_id\").isNotNull(),\n",
    "      col(\"reply_at\").cast(\"timestamp\") - col(\"created_at\").cast(\"timestamp\"),\n",
    "   )\n",
    ").withColumn(\n",
    "   \"tweet_number\", \n",
    "   F.when(\n",
    "      col(\"status_id\").isNotNull(), \n",
    "      expr(\"row_number() OVER (PARTITION BY reply_to_status_id ORDER BY reply_at)\")\n",
    "   )\n",
    ")\n",
    "\n",
    "derived_df2 = derived_df2\\\n",
    ".filter(col('status_id').isNotNull())\\\n",
    ".select(\n",
    "   \"reply_date\",\n",
    "   \"reply_user_id\",\n",
    "   \"original_user_id\",\n",
    "   \"reply_delay\",\n",
    "   \"tweet_number\"\n",
    ")\n",
    "\n",
    "derived_df2.show()"
   ]
  },
  {
   "cell_type": "code",
   "execution_count": null,
   "metadata": {},
   "outputs": [],
   "source": [
    "derived_df2.filter(col('user_id').isNotNull()).show()"
   ]
  },
  {
   "cell_type": "code",
   "execution_count": 30,
   "metadata": {},
   "outputs": [],
   "source": [
    "# Q3"
   ]
  },
  {
   "cell_type": "code",
   "execution_count": 38,
   "metadata": {},
   "outputs": [
    {
     "name": "stderr",
     "output_type": "stream",
     "text": [
      "[Stage 112:>                                                        (0 + 1) / 1]\r"
     ]
    },
    {
     "name": "stdout",
     "output_type": "stream",
     "text": [
      "+-------------------+---------------+---------------+-----------+\n",
      "|            user_id|    screen_name|old_screen_name|change_date|\n",
      "+-------------------+---------------+---------------+-----------+\n",
      "|1189542607245852673|      mskltccrc|HI66iiMDHyzU8oM| 2020-03-29|\n",
      "|1228380016519647235|IprQa_AcPqIlIzx|ipr_ioZvQaPlIIb| 2020-03-29|\n",
      "|1238870792500391936|     StoicUnity|   Tu_mamA_mama| 2020-03-29|\n",
      "|1243516299067772928|  Infosglobales| InfosDigitales| 2020-03-29|\n",
      "|1244367538529669120| BlackmanAndR88|      KanyeWI89| 2020-03-29|\n",
      "| 907725168742735872|     gift_adene|    Real_Moses1| 2020-03-29|\n",
      "| 907725168742735872|    Iam_Joshua5|     gift_adene| 2020-03-29|\n",
      "|1092355973975552000|Engr_Azhar_Shah|        EazharS| 2020-03-29|\n",
      "|1110883404491444225|PurpleIsPowrful|ruthforcongress| 2020-03-29|\n",
      "|1192900241613377539| ImForAllHumans|   Michael4Yang| 2020-03-29|\n",
      "|1224792058210267136|  AmiRFaRooq787|  AmiRFaRooq789| 2020-03-29|\n",
      "|1229771933518045184|AlbaBarrenetxea|   Alba02208797| 2020-03-29|\n",
      "|          330014113|        YrBases| 90SecondCrafts| 2020-03-29|\n",
      "|          449093135|     itsriavale|     valelaltra| 2020-03-29|\n",
      "|          461841349|        ZeeNews|   ZeeNewsHindi| 2020-03-29|\n",
      "|         4835167894|       seljak_b|        SeljakB| 2020-03-29|\n",
      "| 964249757223878656| wakabalapakaba| wakabalaplante| 2020-03-29|\n",
      "| 964249757223878656| wakabalaplante| wakabalapakaba| 2020-03-29|\n",
      "| 964249757223878656| wakabalapakaba| wakabalaplante| 2020-03-29|\n",
      "|1010037119606288384|pvkinfotainment|ManiKarantweets| 2020-03-29|\n",
      "+-------------------+---------------+---------------+-----------+\n",
      "only showing top 20 rows\n",
      "\n"
     ]
    },
    {
     "name": "stderr",
     "output_type": "stream",
     "text": [
      "                                                                                \r"
     ]
    }
   ],
   "source": [
    "derived_df3 = src_df.select(\n",
    "   \"user_id\", \n",
    "   \"screen_name\", \n",
    "   \"created_at\"\n",
    ").withColumn(\n",
    "   \"old_screen_name\",\n",
    "   F.lag(\"screen_name\", 1).over(\n",
    "      Window.partitionBy(\"user_id\").orderBy(col(\"created_at\").asc())\n",
    "   )\n",
    ").filter(\n",
    "   col(\"old_screen_name\") != col(\"screen_name\")\n",
    ").withColumn(\n",
    "   \"change_date\",\n",
    "   F.substring(\"created_at\", 1, 10)\n",
    ").drop(\"created_at\")\n",
    "\n",
    "derived_df3.show()"
   ]
  },
  {
   "cell_type": "code",
   "execution_count": null,
   "metadata": {},
   "outputs": [],
   "source": []
  },
  {
   "cell_type": "code",
   "execution_count": null,
   "metadata": {},
   "outputs": [],
   "source": []
  }
 ],
 "metadata": {
  "kernelspec": {
   "display_name": "Python 3",
   "language": "python",
   "name": "python3"
  },
  "language_info": {
   "codemirror_mode": {
    "name": "ipython",
    "version": 3
   },
   "file_extension": ".py",
   "mimetype": "text/x-python",
   "name": "python",
   "nbconvert_exporter": "python",
   "pygments_lexer": "ipython3",
   "version": "3.10.11"
  }
 },
 "nbformat": 4,
 "nbformat_minor": 2
}
