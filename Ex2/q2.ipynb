{
 "cells": [
  {
   "cell_type": "code",
   "execution_count": 1,
   "metadata": {},
   "outputs": [],
   "source": [
    "from pyspark.sql import SparkSession\n",
    "from pyspark.sql.functions import col, collect_list, count, last, lag, row_number, substring_index\n",
    "from pyspark.sql.window import Window"
   ]
  },
  {
   "cell_type": "code",
   "execution_count": 16,
   "metadata": {},
   "outputs": [],
   "source": [
    "sp = SparkSession.builder.getOrCreate()"
   ]
  },
  {
   "cell_type": "code",
   "execution_count": 18,
   "metadata": {},
   "outputs": [
    {
     "name": "stderr",
     "output_type": "stream",
     "text": [
      "[Stage 12:===================================================>    (25 + 2) / 27]\r"
     ]
    },
    {
     "name": "stdout",
     "output_type": "stream",
     "text": [
      "+--------------------+--------------------+--------------------+---------------+--------------------+------------------+-------------------+----------------+--------------------+--------+----------+----------------+-------------+------------+-------------------+--------------------+---------------+-------------+------------+--------------------+--------+----+\n",
      "|           status_id|             user_id|          created_at|    screen_name|                text|            source| reply_to_status_id|reply_to_user_id|reply_to_screen_name|is_quote|is_retweet|favourites_count|retweet_count|country_code|    place_full_name|          place_type|followers_count|friends_count|account_lang|  account_created_at|verified|lang|\n",
      "+--------------------+--------------------+--------------------+---------------+--------------------+------------------+-------------------+----------------+--------------------+--------+----------+----------------+-------------+------------+-------------------+--------------------+---------------+-------------+------------+--------------------+--------+----+\n",
      "| 1246588359528587267| 1185238072075657216|2020-04-05T00:00:00Z|     Cencalada1|@eldiarionorte Qu...|   Twitter Web App|1246349299136561153|      1101088520|       eldiarionorte|   FALSE|     FALSE|              10|            0|        NULL|               NULL|                NULL|              0|           17|        NULL|2019-10-18T16:56:13Z|   FALSE|  es|\n",
      "| 1246588359688019970|            18604464|2020-04-05T00:00:00Z|      jhoysradt|Has anyone tried ...|Twitter for iPhone|               NULL|            NULL|                NULL|   FALSE|     FALSE|            8232|            0|          US|West Palm Beach, FL|                city|           1623|         1543|        NULL|2009-01-04T16:08:57Z|   FALSE|  en|\n",
      "| 1246588360035991552|            93706595|2020-04-05T00:00:00Z|   longevitymag|Global superstar ...|              NULL|               NULL|            NULL|                NULL|    NULL|      NULL|            NULL|         NULL|        NULL|               NULL|                NULL|           NULL|         NULL|        NULL|                NULL|    NULL|NULL|\n",
      "|#pink #coronaviru...|                NULL|                NULL|           NULL|                NULL|              NULL|               NULL|            NULL|                NULL|    NULL|      NULL|            NULL|         NULL|        NULL|               NULL|                NULL|           NULL|         NULL|        NULL|                NULL|    NULL|NULL|\n",
      "|https://t.co/pR8a...|           TweetDeck|                NULL|           NULL|                NULL|             FALSE|              FALSE|            5653|                   0|    NULL|      NULL|            NULL|         6479|        1593|               NULL|2009-11-30T20:28:55Z|          FALSE|           en|        NULL|                NULL|    NULL|NULL|\n",
      "| 1246588360044363776|            93206083|2020-04-05T00:00:00Z| SMM_sportradio|อัยยวัฒน์ ศรีวัฒน...|              NULL|               NULL|            NULL|                NULL|    NULL|      NULL|            NULL|         NULL|        NULL|               NULL|                NULL|           NULL|         NULL|        NULL|                NULL|    NULL|NULL|\n",
      "|#SMMSPORT #เลสเตอ...|                NULL|                NULL|           NULL|                NULL|              NULL|               NULL|            NULL|                NULL|    NULL|      NULL|            NULL|         NULL|        NULL|               NULL|                NULL|           NULL|         NULL|        NULL|                NULL|    NULL|NULL|\n",
      "|https://t.co/wc89...|           TweetDeck|                NULL|           NULL|                NULL|             FALSE|              FALSE|             108|                   2|    NULL|      NULL|            NULL|        42206|         352|               NULL|2009-11-28T15:44:53Z|          FALSE|           th|        NULL|                NULL|    NULL|NULL|\n",
      "| 1246588360061095937|           132225222|2020-04-05T00:00:00Z|      SSalud_mx|#ConferenciaDePre...|         TweetDeck|               NULL|            NULL|                NULL|   FALSE|     FALSE|            3966|           51|        NULL|               NULL|                NULL|         875211|          216|        NULL|2010-04-12T16:53:45Z|    TRUE|  es|\n",
      "| 1246588360069529601|            15762575|2020-04-05T00:00:00Z|    TRF_Stories|Community kitchen...|              NULL|               NULL|            NULL|                NULL|    NULL|      NULL|            NULL|         NULL|        NULL|               NULL|                NULL|           NULL|         NULL|        NULL|                NULL|    NULL|NULL|\n",
      "|https://t.co/OcSi...|           TweetDeck|                NULL|           NULL|                NULL|             FALSE|              FALSE|            2524|                   1|    NULL|      NULL|            NULL|        77223|        2038|               NULL|2008-08-07T12:24:49Z|           TRUE|           en|        NULL|                NULL|    NULL|NULL|\n",
      "| 1246588360069730308| 1141708884366811136|2020-04-05T00:00:00Z|   CorpoelecCar||| Aprovecha el t...|         TweetDeck|               NULL|            NULL|                NULL|   FALSE|     FALSE|               6|            0|        NULL|               NULL|                NULL|           3429|           33|        NULL|2019-06-20T14:06:24Z|   FALSE|  es|\n",
      "| 1246588360073736194|  759364749897314304|2020-04-05T00:00:00Z|    lanoticiasv|#Internacional #c...|              NULL|               NULL|            NULL|                NULL|    NULL|      NULL|            NULL|         NULL|        NULL|               NULL|                NULL|           NULL|         NULL|        NULL|                NULL|    NULL|NULL|\n",
      "|Médicos australia...|                NULL|                NULL|           NULL|                NULL|              NULL|               NULL|            NULL|                NULL|    NULL|      NULL|            NULL|         NULL|        NULL|               NULL|                NULL|           NULL|         NULL|        NULL|                NULL|    NULL|NULL|\n",
      "|Detalles acá: htt...|           TweetDeck|                NULL|           NULL|                NULL|             FALSE|              FALSE|             795|                   5|    NULL|      NULL|            NULL|        36385|        1151|               NULL|2016-07-30T12:27:19Z|          FALSE|           es|        NULL|                NULL|    NULL|NULL|\n",
      "| 1246588360090480644| 1141323214146232320|2020-04-05T00:00:00Z|CorpoelecSucre_|@CorpoelecSucre_t...|         TweetDeck|               NULL|            NULL|                NULL|   FALSE|     FALSE|               3|            0|        NULL|               NULL|                NULL|            492|          184|        NULL|2019-06-19T12:33:53Z|   FALSE|  es|\n",
      "| 1246588360115679233|            33933259|2020-04-05T00:00:00Z|         UNICEF|“Take care of you...|              NULL|               NULL|            NULL|                NULL|    NULL|      NULL|            NULL|         NULL|        NULL|               NULL|                NULL|           NULL|         NULL|        NULL|                NULL|    NULL|NULL|\n",
      "|           Binderiya|                  24| is staying home ...|           NULL|                NULL|              NULL|               NULL|            NULL|                NULL|    NULL|      NULL|            NULL|         NULL|        NULL|               NULL|                NULL|           NULL|         NULL|        NULL|                NULL|    NULL|NULL|\n",
      "|     @voicesofyouth\"|Twitter for Adver...|                NULL|           NULL|                NULL|             FALSE|              FALSE|           14869|                 135|    NULL|      NULL|            NULL|      8122750|       23669|               NULL|2009-04-21T15:16:12Z|           TRUE|           en|        NULL|                NULL|    NULL|NULL|\n",
      "| 1246588360115683328|           115765618|2020-04-05T00:00:00Z| Congreso_CdMex|#InfórmateBien | ...|              NULL|               NULL|            NULL|                NULL|    NULL|      NULL|            NULL|         NULL|        NULL|               NULL|                NULL|           NULL|         NULL|        NULL|                NULL|    NULL|NULL|\n",
      "+--------------------+--------------------+--------------------+---------------+--------------------+------------------+-------------------+----------------+--------------------+--------+----------+----------------+-------------+------------+-------------------+--------------------+---------------+-------------+------------+--------------------+--------+----+\n",
      "only showing top 20 rows\n",
      "\n"
     ]
    },
    {
     "name": "stderr",
     "output_type": "stream",
     "text": [
      "                                                                                \r"
     ]
    }
   ],
   "source": [
    "src_df = sp.read.csv('csv', header=True, inferSchema=True)\n",
    "src_df.show()"
   ]
  },
  {
   "cell_type": "code",
   "execution_count": null,
   "metadata": {},
   "outputs": [],
   "source": [
    "# q1\n",
    "\n",
    "df_q1 = src_df.withColumn('tweet_date', )"
   ]
  },
  {
   "cell_type": "code",
   "execution_count": null,
   "metadata": {},
   "outputs": [],
   "source": []
  }
 ],
 "metadata": {
  "kernelspec": {
   "display_name": "Python 3",
   "language": "python",
   "name": "python3"
  },
  "language_info": {
   "codemirror_mode": {
    "name": "ipython",
    "version": 3
   },
   "file_extension": ".py",
   "mimetype": "text/x-python",
   "name": "python",
   "nbconvert_exporter": "python",
   "pygments_lexer": "ipython3",
   "version": "3.9.18"
  }
 },
 "nbformat": 4,
 "nbformat_minor": 2
}
