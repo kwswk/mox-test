{
 "cells": [
  {
   "cell_type": "code",
   "execution_count": 1,
   "metadata": {},
   "outputs": [],
   "source": [
    "from pyspark.sql import SparkSession\n",
    "from pyspark.sql.functions import col, collect_list, count, last, lag, row_number, substring_index, input_file_name, regexp_extract, expr, concat_ws, map_from_arrays\n",
    "from pyspark.sql.window import Window"
   ]
  },
  {
   "cell_type": "code",
   "execution_count": 2,
   "metadata": {},
   "outputs": [
    {
     "name": "stderr",
     "output_type": "stream",
     "text": [
      "24/03/24 22:00:06 WARN Utils: Your hostname, kWs-MacBook-Pro-2019.local resolves to a loopback address: 127.0.0.1; using 192.168.1.205 instead (on interface en0)\n",
      "24/03/24 22:00:06 WARN Utils: Set SPARK_LOCAL_IP if you need to bind to another address\n",
      "Setting default log level to \"WARN\".\n",
      "To adjust logging level use sc.setLogLevel(newLevel). For SparkR, use setLogLevel(newLevel).\n",
      "24/03/24 22:00:09 WARN NativeCodeLoader: Unable to load native-hadoop library for your platform... using builtin-java classes where applicable\n"
     ]
    }
   ],
   "source": [
    "sp = SparkSession.builder.getOrCreate()"
   ]
  },
  {
   "cell_type": "code",
   "execution_count": 42,
   "metadata": {},
   "outputs": [
    {
     "name": "stdout",
     "output_type": "stream",
     "text": [
      "+-------------------+-------------------+--------------------+---------------+--------------------+--------------------+------------------+----------------+--------------------+--------+----------+----------------+-------------+------------+---------------+----------+---------------+-------------+------------+--------------------+--------+----+----------+--------------------+\n",
      "|          status_id|            user_id|          created_at|    screen_name|                text|              source|reply_to_status_id|reply_to_user_id|reply_to_screen_name|is_quote|is_retweet|favourites_count|retweet_count|country_code|place_full_name|place_type|followers_count|friends_count|account_lang|  account_created_at|verified|lang|tweet_date|            hashtags|\n",
      "+-------------------+-------------------+--------------------+---------------+--------------------+--------------------+------------------+----------------+--------------------+--------+----------+----------------+-------------+------------+---------------+----------+---------------+-------------+------------+--------------------+--------+----+----------+--------------------+\n",
      "|1244051646071611394| 860252856829587457|2020-03-29T00:00:00Z|   IMSS_SanLuis|Ante cualquier en...|           TweetDeck|              NULL|            NULL|                NULL|   FALSE|     FALSE|             300|            0|        NULL|           NULL|      NULL|           1008|           41|        NULL|2017-05-04T22:00:38Z|   FALSE|  es|2020-03-29|[#Prevenci, #Coro...|\n",
      "|1244051645039706112|1125933654943895553|2020-03-29T00:00:00Z|     intrac_ccs|#ATENCIÓN En el T...|           TweetDeck|              NULL|            NULL|                NULL|   FALSE|     FALSE|            1030|            1|        NULL|           NULL|      NULL|             90|          316|        NULL|2019-05-08T01:21:16Z|   FALSE|  es|2020-03-29|[#ATENCI, #Corona...|\n",
      "|1244051645975191557|           80943559|2020-03-29T00:00:00Z|       rlieving|“People are just ...|           TweetDeck|              NULL|            NULL|                NULL|   FALSE|     FALSE|             604|            0|        NULL|           NULL|      NULL|            136|          457|        NULL|2009-10-08T21:06:08Z|   FALSE|  en|2020-03-29|[#minneapolis, #m...|\n",
      "|1244051646750928897| 817072420947247104|2020-03-29T00:00:00Z|   Tu_IMSS_Coah|Si empezaste a tr...|           TweetDeck|              NULL|            NULL|                NULL|   FALSE|     FALSE|            1827|            0|        NULL|           NULL|      NULL|           1549|          170|        NULL|2017-01-05T18:17:00Z|   FALSE|  es|2020-03-29|[#IMSS, #SanaDist...|\n",
      "|1244051647032102914| 788863557349670913|2020-03-29T00:00:00Z|   Tabasco_IMSS|Una sociedad info...|           TweetDeck|              NULL|            NULL|                NULL|   FALSE|     FALSE|             723|            0|        NULL|           NULL|      NULL|            868|          125|        NULL|2016-10-19T22:05:03Z|   FALSE|  es|2020-03-29|[#Coronavirus, #C...|\n",
      "|1244051645710897155|          132225222|2020-03-29T00:00:00Z|      SSalud_mx|¡#Infórmate! #Con...|           TweetDeck|              NULL|            NULL|                NULL|   FALSE|     FALSE|            3954|           49|        NULL|           NULL|      NULL|         812318|          212|        NULL|2010-04-12T16:53:45Z|    TRUE|  es|2020-03-29|[#Inf, #Conferenc...|\n",
      "|1244051646935633921|           27922157|2020-03-29T00:00:00Z|AmerMedicalAssn|.@PatriceHarrisMD...|            Sprinklr|              NULL|            NULL|                NULL|   FALSE|     FALSE|            2894|            3|        NULL|           NULL|      NULL|         714952|         6877|        NULL|2009-03-31T17:50:31Z|    TRUE|  en|2020-03-29|[#COVID19, #pande...|\n",
      "|1244051645971025920|         1115874631|2020-03-29T00:00:00Z|   CGTNOfficial|First medical tea...|Twitter Media Studio|              NULL|            NULL|                NULL|   FALSE|     FALSE|              65|           18|        NULL|           NULL|      NULL|       14040072|           55|        NULL|2013-01-24T03:18:59Z|    TRUE|  en|2020-03-29|[#Wuhan, #COVID19...|\n",
      "|1244051646151380995|         2547795564|2020-03-29T00:00:00Z|  Alaraby_Sport|هكذا ساهم نجم كرة...|           TweetDeck|              NULL|            NULL|                NULL|   FALSE|     FALSE|              36|            0|        NULL|           NULL|      NULL|          36953|         1003|        NULL|2014-06-05T09:50:31Z|    TRUE|  ar|2020-03-29|          [#COVID19]|\n",
      "|1244051647149543426|          108845320|2020-03-29T00:00:00Z|       OnTopMag|.@KathyGriffin: @...|Twitter for Adver...|              NULL|            NULL|                NULL|   FALSE|     FALSE|            2658|            1|        NULL|           NULL|      NULL|           5042|         5389|        NULL|2010-01-27T05:23:15Z|   FALSE|  en|2020-03-29|[#Coronavirus, #c...|\n",
      "|1244051645039693824|1042498579909107712|2020-03-29T00:00:00Z|ContraReplicaMX|A pesar de la con...|           TweetDeck|              NULL|            NULL|                NULL|   FALSE|     FALSE|            5671|            0|        NULL|           NULL|      NULL|          13287|         2559|        NULL|2018-09-19T19:40:04Z|   FALSE|  es|2020-03-29|          [#Covid19]|\n",
      "|1244051646469947399|          121849420|2020-03-29T00:00:00Z|        SSC_Pue|Ya sea a pie, en ...|           TweetDeck|              NULL|            NULL|                NULL|   FALSE|     FALSE|            1726|            3|        NULL|           NULL|      NULL|         297013|          223|        NULL|2010-03-10T20:04:51Z|   FALSE|  es|2020-03-29|     [#COVID19, #Qu]|\n",
      "|1244051645098528768|1239901273002033155|2020-03-29T00:00:00Z|        uri_911|#VEN911Oficial | ...|           TweetDeck|              NULL|            NULL|                NULL|   FALSE|     FALSE|             441|            0|        NULL|           NULL|      NULL|             66|           74|        NULL|2020-03-17T13:09:13Z|   FALSE|  es|2020-03-29|[#VEN911Oficial, ...|\n",
      "|1244051646113443841| 961689052977225729|2020-03-29T00:00:00Z|     SecAytoPue|¿Qué es el corona...|           TweetDeck|              NULL|            NULL|                NULL|   FALSE|     FALSE|             312|            0|        NULL|           NULL|      NULL|           2251|          788|        NULL|2018-02-08T19:51:52Z|   FALSE|  es|2020-03-29|          [#COVID19]|\n",
      "|1244051645102579712|           17673635|2020-03-29T00:00:00Z|       livemint|#CoronaUpdate | J...|           TweetDeck|              NULL|            NULL|                NULL|   FALSE|     FALSE|             474|            2|        NULL|           NULL|      NULL|        1862858|          127|        NULL|2008-11-27T09:07:38Z|    TRUE|  en|2020-03-29|[#CoronaUpdate, #...|\n",
      "|1244051647329779713|           34639484|2020-03-29T00:00:00Z|    DiarioLibre|| #Coronavirus | ...|           TweetDeck|              NULL|            NULL|                NULL|   FALSE|     FALSE|             321|           12|        NULL|           NULL|      NULL|        1185042|        23738|        NULL|2009-04-23T15:23:32Z|    TRUE|  es|2020-03-29|[#Coronavirus, #D...|\n",
      "|1244051646415425536|          167391967|2020-03-29T00:00:00Z|  lahoraecuador|Debido a la emerg...|           TweetDeck|              NULL|            NULL|                NULL|   FALSE|     FALSE|            2384|           19|        NULL|           NULL|      NULL|         534729|         1696|        NULL|2010-07-16T13:33:27Z|   FALSE|  es|2020-03-29|[#Ecuador, #Covid19]|\n",
      "|1244051647418044418|           15872418|2020-03-29T00:00:00Z|     ABSCBNNews|Singapore donates...|           TweetDeck|              NULL|            NULL|                NULL|   FALSE|     FALSE|            1073|          840|        NULL|           NULL|      NULL|        6767144|         1075|        NULL|2008-08-16T10:09:33Z|    TRUE|  en|2020-03-29|          [#COVID19]|\n",
      "|1244051646100967425| 805693014412763136|2020-03-29T00:00:00Z|dailyaajupdates|سعودی حکام نے امس...|           TweetDeck|              NULL|            NULL|                NULL|   FALSE|     FALSE|              18|            0|        NULL|           NULL|      NULL|           1325|           32|        NULL|2016-12-05T08:39:18Z|   FALSE|  ur|2020-03-29|[#DailyAAJUpdates...|\n",
      "|1244051645111074817|          171548670|2020-03-29T00:00:00Z|    RadioNLNews|It's been a remar...|           TweetDeck|              NULL|            NULL|                NULL|   FALSE|     FALSE|             498|            0|        NULL|           NULL|      NULL|           6929|         2137|        NULL|2010-07-27T16:17:02Z|   FALSE|  en|2020-03-29|[#COVID19, #bcpol...|\n",
      "+-------------------+-------------------+--------------------+---------------+--------------------+--------------------+------------------+----------------+--------------------+--------+----------+----------------+-------------+------------+---------------+----------+---------------+-------------+------------+--------------------+--------+----+----------+--------------------+\n",
      "only showing top 20 rows\n",
      "\n"
     ]
    }
   ],
   "source": [
    "src_df = sp.read\\\n",
    "   .option(\"escapeQuotes\", \"true\")\\\n",
    "   .option(\"multiLine\", \"true\")\\\n",
    "   .csv(\n",
    "      'csv/2020-03-29 Coronavirus Tweets.CSV', \n",
    "      header=True,\n",
    "      quote='\"',\n",
    "      escape='\\\"',\n",
    "   )\\\n",
    "   .withColumn(\n",
    "      \"tweet_date\", \n",
    "      regexp_extract(input_file_name(), \"/(\\d{4}-\\d{2}-\\d{2})\", 1)\n",
    "   )\\\n",
    "   .withColumn('hashtags', expr(r\"regexp_extract_all(text, '(#\\\\w+)', 0)\") )\n",
    "\n",
    "src_df.show()"
   ]
  },
  {
   "cell_type": "code",
   "execution_count": 43,
   "metadata": {},
   "outputs": [],
   "source": [
    "# q1\n",
    "\n",
    "derived_df1 = src_df.select(\n",
    "   \"tweet_date\",\n",
    "   \"user_id\",\n",
    "   \"hashtags\",\n",
    "   \"source\",\n",
    "   \"screen_name\",\n",
    "   \"created_at\",\n",
    ")\n",
    "\n",
    "derived_df11 = derived_df1\\\n",
    ".select(\n",
    "   \"tweet_date\",\n",
    "   \"user_id\",\n",
    "   \"source\"\n",
    ")\\\n",
    ".groupBy(\n",
    "   \"tweet_date\",\n",
    "   \"user_id\"\n",
    "   # \"screen_name_last\",\n",
    ").agg(\n",
    "   count(\"*\").alias(\"num_tweets\"),\n",
    "   collect_list(col(\"source\")).alias(\"source_list\")\n",
    "   # collect_list(\"hashtags\").alias(\"hashtags_list\")\n",
    ")\n",
    "\n",
    "# derived_df11 = derived_df11\\\n",
    "#    .withColumn(\n",
    "#       \"source_map\", \n",
    "#       map_from_arrays(col(\"source_list\"), count(col(\"source_list\")))\n",
    "# )\n",
    "\n",
    "derived_df11.show()"
   ]
  },
  {
   "cell_type": "code",
   "execution_count": null,
   "metadata": {},
   "outputs": [],
   "source": []
  },
  {
   "cell_type": "code",
   "execution_count": null,
   "metadata": {},
   "outputs": [],
   "source": []
  },
  {
   "cell_type": "code",
   "execution_count": null,
   "metadata": {},
   "outputs": [],
   "source": []
  },
  {
   "cell_type": "code",
   "execution_count": null,
   "metadata": {},
   "outputs": [],
   "source": []
  },
  {
   "cell_type": "code",
   "execution_count": null,
   "metadata": {},
   "outputs": [],
   "source": []
  },
  {
   "cell_type": "code",
   "execution_count": null,
   "metadata": {},
   "outputs": [],
   "source": []
  },
  {
   "cell_type": "code",
   "execution_count": null,
   "metadata": {},
   "outputs": [],
   "source": []
  },
  {
   "cell_type": "code",
   "execution_count": null,
   "metadata": {},
   "outputs": [],
   "source": []
  },
  {
   "cell_type": "code",
   "execution_count": null,
   "metadata": {},
   "outputs": [],
   "source": []
  }
 ],
 "metadata": {
  "kernelspec": {
   "display_name": "Python 3",
   "language": "python",
   "name": "python3"
  },
  "language_info": {
   "codemirror_mode": {
    "name": "ipython",
    "version": 3
   },
   "file_extension": ".py",
   "mimetype": "text/x-python",
   "name": "python",
   "nbconvert_exporter": "python",
   "pygments_lexer": "ipython3",
   "version": "3.9.18"
  }
 },
 "nbformat": 4,
 "nbformat_minor": 2
}
