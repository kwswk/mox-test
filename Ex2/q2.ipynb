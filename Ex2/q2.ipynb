{
 "cells": [
  {
   "cell_type": "code",
   "execution_count": 1,
   "metadata": {},
   "outputs": [],
   "source": [
    "from pyspark.sql import SparkSession\n",
    "from pyspark.sql.functions import col, collect_list, count, last, lag, row_number, substring_index, input_file_name, regexp_extract, expr, concat_ws, map_from_arrays\n",
    "from pyspark.sql.window import Window"
   ]
  },
  {
   "cell_type": "code",
   "execution_count": 2,
   "metadata": {},
   "outputs": [
    {
     "name": "stderr",
     "output_type": "stream",
     "text": [
      "Setting default log level to \"WARN\".\n",
      "To adjust logging level use sc.setLogLevel(newLevel). For SparkR, use setLogLevel(newLevel).\n",
      "24/03/24 13:58:32 WARN NativeCodeLoader: Unable to load native-hadoop library for your platform... using builtin-java classes where applicable\n"
     ]
    }
   ],
   "source": [
    "sp = SparkSession.builder.getOrCreate()"
   ]
  },
  {
   "cell_type": "code",
   "execution_count": 8,
   "metadata": {},
   "outputs": [
    {
     "ename": "AnalysisException",
     "evalue": "[UNRESOLVED_COLUMN.WITH_SUGGESTION] A column or function parameter with name `text` cannot be resolved. Did you mean one of the following? [`_c0`, `_c1`, `_c2`, `_c3`, `_c4`].; line 1 pos 19;\n'Project [_c0#988, _c1#989, _c2#990, _c3#991, _c4#992, _c5#993, _c6#994, _c7#995, _c8#996, _c9#997, _c10#998, _c11#999, _c12#1000, _c13#1001, _c14#1002, _c15#1003, _c16#1004, _c17#1005, _c18#1006, _c19#1007, _c20#1008, _c21#1009, tweet_date#1032, 'regexp_extract_all('text, (#\\w+), 0) AS hashtags#1057]\n+- Project [_c0#988, _c1#989, _c2#990, _c3#991, _c4#992, _c5#993, _c6#994, _c7#995, _c8#996, _c9#997, _c10#998, _c11#999, _c12#1000, _c13#1001, _c14#1002, _c15#1003, _c16#1004, _c17#1005, _c18#1006, _c19#1007, _c20#1008, _c21#1009, regexp_extract(input_file_name(), /(\\d{4}-\\d{2}-\\d{2}), 1) AS tweet_date#1032]\n   +- Relation [_c0#988,_c1#989,_c2#990,_c3#991,_c4#992,_c5#993,_c6#994,_c7#995,_c8#996,_c9#997,_c10#998,_c11#999,_c12#1000,_c13#1001,_c14#1002,_c15#1003,_c16#1004,_c17#1005,_c18#1006,_c19#1007,_c20#1008,_c21#1009] csv\n",
     "output_type": "error",
     "traceback": [
      "\u001b[0;31m---------------------------------------------------------------------------\u001b[0m",
      "\u001b[0;31mAnalysisException\u001b[0m                         Traceback (most recent call last)",
      "Cell \u001b[0;32mIn[8], line 1\u001b[0m\n\u001b[0;32m----> 1\u001b[0m src_df \u001b[38;5;241m=\u001b[39m \u001b[43msp\u001b[49m\u001b[38;5;241;43m.\u001b[39;49m\u001b[43mread\u001b[49m\u001b[38;5;241;43m.\u001b[39;49m\u001b[43mcsv\u001b[49m\u001b[43m(\u001b[49m\u001b[38;5;124;43m'\u001b[39;49m\u001b[38;5;124;43mcsv\u001b[39;49m\u001b[38;5;124;43m'\u001b[39;49m\u001b[43m)\u001b[49m\u001b[43m\\\u001b[49m\n\u001b[1;32m      2\u001b[0m \u001b[43m   \u001b[49m\u001b[38;5;241;43m.\u001b[39;49m\u001b[43mwithColumn\u001b[49m\u001b[43m(\u001b[49m\n\u001b[1;32m      3\u001b[0m \u001b[43m      \u001b[49m\u001b[38;5;124;43m\"\u001b[39;49m\u001b[38;5;124;43mtweet_date\u001b[39;49m\u001b[38;5;124;43m\"\u001b[39;49m\u001b[43m,\u001b[49m\u001b[43m \u001b[49m\n\u001b[1;32m      4\u001b[0m \u001b[43m      \u001b[49m\u001b[43mregexp_extract\u001b[49m\u001b[43m(\u001b[49m\u001b[43minput_file_name\u001b[49m\u001b[43m(\u001b[49m\u001b[43m)\u001b[49m\u001b[43m,\u001b[49m\u001b[43m \u001b[49m\u001b[38;5;124;43m\"\u001b[39;49m\u001b[38;5;124;43m/(\u001b[39;49m\u001b[38;5;124;43m\\\u001b[39;49m\u001b[38;5;124;43md\u001b[39;49m\u001b[38;5;132;43;01m{4}\u001b[39;49;00m\u001b[38;5;124;43m-\u001b[39;49m\u001b[38;5;124;43m\\\u001b[39;49m\u001b[38;5;124;43md\u001b[39;49m\u001b[38;5;132;43;01m{2}\u001b[39;49;00m\u001b[38;5;124;43m-\u001b[39;49m\u001b[38;5;124;43m\\\u001b[39;49m\u001b[38;5;124;43md\u001b[39;49m\u001b[38;5;132;43;01m{2}\u001b[39;49;00m\u001b[38;5;124;43m)\u001b[39;49m\u001b[38;5;124;43m\"\u001b[39;49m\u001b[43m,\u001b[49m\u001b[43m \u001b[49m\u001b[38;5;241;43m1\u001b[39;49m\u001b[43m)\u001b[49m\n\u001b[1;32m      5\u001b[0m \u001b[43m   \u001b[49m\u001b[43m)\u001b[49m\u001b[43m\\\u001b[49m\n\u001b[1;32m      6\u001b[0m \u001b[43m   \u001b[49m\u001b[38;5;241;43m.\u001b[39;49m\u001b[43mwithColumn\u001b[49m\u001b[43m(\u001b[49m\u001b[38;5;124;43m'\u001b[39;49m\u001b[38;5;124;43mhashtags\u001b[39;49m\u001b[38;5;124;43m'\u001b[39;49m\u001b[43m,\u001b[49m\u001b[43m \u001b[49m\u001b[43mexpr\u001b[49m\u001b[43m(\u001b[49m\u001b[38;5;124;43mr\u001b[39;49m\u001b[38;5;124;43m\"\u001b[39;49m\u001b[38;5;124;43mregexp_extract_all(text, \u001b[39;49m\u001b[38;5;124;43m'\u001b[39;49m\u001b[38;5;124;43m(#\u001b[39;49m\u001b[38;5;130;43;01m\\\\\u001b[39;49;00m\u001b[38;5;124;43mw+)\u001b[39;49m\u001b[38;5;124;43m'\u001b[39;49m\u001b[38;5;124;43m, 0)\u001b[39;49m\u001b[38;5;124;43m\"\u001b[39;49m\u001b[43m)\u001b[49m\u001b[43m \u001b[49m\u001b[43m)\u001b[49m\n\u001b[1;32m      8\u001b[0m src_df\u001b[38;5;241m.\u001b[39mshow()\n",
      "File \u001b[0;32m~/Documents/projects/mox-test/.venv/lib/python3.9/site-packages/pyspark/sql/dataframe.py:5174\u001b[0m, in \u001b[0;36mDataFrame.withColumn\u001b[0;34m(self, colName, col)\u001b[0m\n\u001b[1;32m   5169\u001b[0m \u001b[38;5;28;01mif\u001b[39;00m \u001b[38;5;129;01mnot\u001b[39;00m \u001b[38;5;28misinstance\u001b[39m(col, Column):\n\u001b[1;32m   5170\u001b[0m     \u001b[38;5;28;01mraise\u001b[39;00m PySparkTypeError(\n\u001b[1;32m   5171\u001b[0m         error_class\u001b[38;5;241m=\u001b[39m\u001b[38;5;124m\"\u001b[39m\u001b[38;5;124mNOT_COLUMN\u001b[39m\u001b[38;5;124m\"\u001b[39m,\n\u001b[1;32m   5172\u001b[0m         message_parameters\u001b[38;5;241m=\u001b[39m{\u001b[38;5;124m\"\u001b[39m\u001b[38;5;124marg_name\u001b[39m\u001b[38;5;124m\"\u001b[39m: \u001b[38;5;124m\"\u001b[39m\u001b[38;5;124mcol\u001b[39m\u001b[38;5;124m\"\u001b[39m, \u001b[38;5;124m\"\u001b[39m\u001b[38;5;124marg_type\u001b[39m\u001b[38;5;124m\"\u001b[39m: \u001b[38;5;28mtype\u001b[39m(col)\u001b[38;5;241m.\u001b[39m\u001b[38;5;18m__name__\u001b[39m},\n\u001b[1;32m   5173\u001b[0m     )\n\u001b[0;32m-> 5174\u001b[0m \u001b[38;5;28;01mreturn\u001b[39;00m DataFrame(\u001b[38;5;28;43mself\u001b[39;49m\u001b[38;5;241;43m.\u001b[39;49m\u001b[43m_jdf\u001b[49m\u001b[38;5;241;43m.\u001b[39;49m\u001b[43mwithColumn\u001b[49m\u001b[43m(\u001b[49m\u001b[43mcolName\u001b[49m\u001b[43m,\u001b[49m\u001b[43m \u001b[49m\u001b[43mcol\u001b[49m\u001b[38;5;241;43m.\u001b[39;49m\u001b[43m_jc\u001b[49m\u001b[43m)\u001b[49m, \u001b[38;5;28mself\u001b[39m\u001b[38;5;241m.\u001b[39msparkSession)\n",
      "File \u001b[0;32m~/Documents/projects/mox-test/.venv/lib/python3.9/site-packages/py4j/java_gateway.py:1322\u001b[0m, in \u001b[0;36mJavaMember.__call__\u001b[0;34m(self, *args)\u001b[0m\n\u001b[1;32m   1316\u001b[0m command \u001b[38;5;241m=\u001b[39m proto\u001b[38;5;241m.\u001b[39mCALL_COMMAND_NAME \u001b[38;5;241m+\u001b[39m\\\n\u001b[1;32m   1317\u001b[0m     \u001b[38;5;28mself\u001b[39m\u001b[38;5;241m.\u001b[39mcommand_header \u001b[38;5;241m+\u001b[39m\\\n\u001b[1;32m   1318\u001b[0m     args_command \u001b[38;5;241m+\u001b[39m\\\n\u001b[1;32m   1319\u001b[0m     proto\u001b[38;5;241m.\u001b[39mEND_COMMAND_PART\n\u001b[1;32m   1321\u001b[0m answer \u001b[38;5;241m=\u001b[39m \u001b[38;5;28mself\u001b[39m\u001b[38;5;241m.\u001b[39mgateway_client\u001b[38;5;241m.\u001b[39msend_command(command)\n\u001b[0;32m-> 1322\u001b[0m return_value \u001b[38;5;241m=\u001b[39m \u001b[43mget_return_value\u001b[49m\u001b[43m(\u001b[49m\n\u001b[1;32m   1323\u001b[0m \u001b[43m    \u001b[49m\u001b[43manswer\u001b[49m\u001b[43m,\u001b[49m\u001b[43m \u001b[49m\u001b[38;5;28;43mself\u001b[39;49m\u001b[38;5;241;43m.\u001b[39;49m\u001b[43mgateway_client\u001b[49m\u001b[43m,\u001b[49m\u001b[43m \u001b[49m\u001b[38;5;28;43mself\u001b[39;49m\u001b[38;5;241;43m.\u001b[39;49m\u001b[43mtarget_id\u001b[49m\u001b[43m,\u001b[49m\u001b[43m \u001b[49m\u001b[38;5;28;43mself\u001b[39;49m\u001b[38;5;241;43m.\u001b[39;49m\u001b[43mname\u001b[49m\u001b[43m)\u001b[49m\n\u001b[1;32m   1325\u001b[0m \u001b[38;5;28;01mfor\u001b[39;00m temp_arg \u001b[38;5;129;01min\u001b[39;00m temp_args:\n\u001b[1;32m   1326\u001b[0m     \u001b[38;5;28;01mif\u001b[39;00m \u001b[38;5;28mhasattr\u001b[39m(temp_arg, \u001b[38;5;124m\"\u001b[39m\u001b[38;5;124m_detach\u001b[39m\u001b[38;5;124m\"\u001b[39m):\n",
      "File \u001b[0;32m~/Documents/projects/mox-test/.venv/lib/python3.9/site-packages/pyspark/errors/exceptions/captured.py:185\u001b[0m, in \u001b[0;36mcapture_sql_exception.<locals>.deco\u001b[0;34m(*a, **kw)\u001b[0m\n\u001b[1;32m    181\u001b[0m converted \u001b[38;5;241m=\u001b[39m convert_exception(e\u001b[38;5;241m.\u001b[39mjava_exception)\n\u001b[1;32m    182\u001b[0m \u001b[38;5;28;01mif\u001b[39;00m \u001b[38;5;129;01mnot\u001b[39;00m \u001b[38;5;28misinstance\u001b[39m(converted, UnknownException):\n\u001b[1;32m    183\u001b[0m     \u001b[38;5;66;03m# Hide where the exception came from that shows a non-Pythonic\u001b[39;00m\n\u001b[1;32m    184\u001b[0m     \u001b[38;5;66;03m# JVM exception message.\u001b[39;00m\n\u001b[0;32m--> 185\u001b[0m     \u001b[38;5;28;01mraise\u001b[39;00m converted \u001b[38;5;28;01mfrom\u001b[39;00m \u001b[38;5;28;01mNone\u001b[39;00m\n\u001b[1;32m    186\u001b[0m \u001b[38;5;28;01melse\u001b[39;00m:\n\u001b[1;32m    187\u001b[0m     \u001b[38;5;28;01mraise\u001b[39;00m\n",
      "\u001b[0;31mAnalysisException\u001b[0m: [UNRESOLVED_COLUMN.WITH_SUGGESTION] A column or function parameter with name `text` cannot be resolved. Did you mean one of the following? [`_c0`, `_c1`, `_c2`, `_c3`, `_c4`].; line 1 pos 19;\n'Project [_c0#988, _c1#989, _c2#990, _c3#991, _c4#992, _c5#993, _c6#994, _c7#995, _c8#996, _c9#997, _c10#998, _c11#999, _c12#1000, _c13#1001, _c14#1002, _c15#1003, _c16#1004, _c17#1005, _c18#1006, _c19#1007, _c20#1008, _c21#1009, tweet_date#1032, 'regexp_extract_all('text, (#\\w+), 0) AS hashtags#1057]\n+- Project [_c0#988, _c1#989, _c2#990, _c3#991, _c4#992, _c5#993, _c6#994, _c7#995, _c8#996, _c9#997, _c10#998, _c11#999, _c12#1000, _c13#1001, _c14#1002, _c15#1003, _c16#1004, _c17#1005, _c18#1006, _c19#1007, _c20#1008, _c21#1009, regexp_extract(input_file_name(), /(\\d{4}-\\d{2}-\\d{2}), 1) AS tweet_date#1032]\n   +- Relation [_c0#988,_c1#989,_c2#990,_c3#991,_c4#992,_c5#993,_c6#994,_c7#995,_c8#996,_c9#997,_c10#998,_c11#999,_c12#1000,_c13#1001,_c14#1002,_c15#1003,_c16#1004,_c17#1005,_c18#1006,_c19#1007,_c20#1008,_c21#1009] csv\n"
     ]
    }
   ],
   "source": [
    "src_df = sp.read.csv('csv', header=True)\\\n",
    "   .withColumn(\n",
    "      \"tweet_date\", \n",
    "      regexp_extract(input_file_name(), \"/(\\d{4}-\\d{2}-\\d{2})\", 1)\n",
    "   )\\\n",
    "   .withColumn('hashtags', expr(r\"regexp_extract_all(text, '(#\\\\w+)', 0)\") )\n",
    "\n",
    "src_df.show()"
   ]
  },
  {
   "cell_type": "code",
   "execution_count": 4,
   "metadata": {},
   "outputs": [
    {
     "name": "stderr",
     "output_type": "stream",
     "text": [
      "[Stage 5:>                                                          (0 + 1) / 1]\r"
     ]
    },
    {
     "name": "stdout",
     "output_type": "stream",
     "text": [
      "+----------+-------+--------+------+-------------------+--------------------+-------------------+\n",
      "|tweet_date|user_id|hashtags|source|        screen_name|          created_at|   screen_name_last|\n",
      "+----------+-------+--------+------+-------------------+--------------------+-------------------+\n",
      "|2020-04-12|   NULL|    NULL|  NULL|               NULL|                  😢|               NULL|\n",
      "|2020-04-12|   NULL|    NULL|  NULL|               NULL|       स्वस्थ रहे 🙏|               NULL|\n",
      "|2020-04-12|   NULL|    NULL|  NULL|               NULL|dedikten sonra bi...|               NULL|\n",
      "|2020-04-12|   NULL|    NULL|  NULL|               NULL|       ............ |               NULL|\n",
      "|2020-04-12|   NULL|    NULL|  NULL|               NULL|                   .|               NULL|\n",
      "|2020-04-12|   NULL|    NULL|  NULL|               NULL|,Twitter for iPad...|               NULL|\n",
      "|2020-04-12|   NULL|    NULL|  NULL|               NULL|                   !|               NULL|\n",
      "|2020-04-12|   NULL|    NULL|  NULL|               NULL| ಕರುನಾಡ ಚಕ್ರವರ್ತಿ...|               NULL|\n",
      "|2020-04-12|   NULL|    NULL|  NULL|               NULL| ಕರುನಾಡ ಚಕ್ರವರ್ತಿ...|               NULL|\n",
      "|2020-04-12|   NULL|    NULL|  NULL|               NULL| ಕರುನಾಡ ಚಕ್ರವರ್ತಿ...|               NULL|\n",
      "|2020-04-12|   NULL|    NULL|  NULL|               NULL| then #TheGreatSt...|               NULL|\n",
      "|2020-04-12|   NULL|    NULL|  NULL|Twitter for Android| REMEMBER THAT IT...|Twitter for Android|\n",
      "|2020-04-12|   NULL|    NULL|  NULL|               NULL|        QUANDO???!!!|               NULL|\n",
      "|2020-04-12|   NULL|    NULL|  NULL|               NULL|     Nah Dawaie hai |               NULL|\n",
      "|2020-04-12|   NULL|    NULL|  NULL|               NULL| 'जीना है या मरना...|               NULL|\n",
      "|2020-04-12|   NULL|    NULL|  NULL|               NULL|                    |               NULL|\n",
      "|2020-04-12|   NULL|    NULL|  NULL|               NULL|                NULL|               NULL|\n",
      "|2020-04-12|   NULL|    NULL|  NULL|               NULL|                NULL|               NULL|\n",
      "|2020-04-12|   NULL|    NULL|  NULL|               NULL|                NULL|               NULL|\n",
      "|2020-04-12|   NULL|    NULL|  NULL|               NULL|                NULL|               NULL|\n",
      "+----------+-------+--------+------+-------------------+--------------------+-------------------+\n",
      "only showing top 20 rows\n",
      "\n"
     ]
    },
    {
     "name": "stderr",
     "output_type": "stream",
     "text": [
      "                                                                                \r"
     ]
    }
   ],
   "source": [
    "# q1\n",
    "\n",
    "derived_df1 = src_df.select(\n",
    "   \"tweet_date\",\n",
    "   \"user_id\",\n",
    "   \"hashtags\",\n",
    "   \"source\",\n",
    "   \"screen_name\",\n",
    "   \"created_at\",\n",
    ").withColumn(\n",
    "   \"screen_name_last\", \n",
    "   last(\"screen_name\")\\\n",
    "      .over(\n",
    "         Window.partitionBy(\"user_id\", \"tweet_date\").orderBy(col(\"created_at\").desc())\n",
    "      )\n",
    ")\n",
    "\n",
    "derived_df1.show()\n"
   ]
  },
  {
   "cell_type": "code",
   "execution_count": 60,
   "metadata": {},
   "outputs": [
    {
     "name": "stderr",
     "output_type": "stream",
     "text": [
      "[Stage 51:>                                                         (0 + 1) / 1]\r"
     ]
    },
    {
     "name": "stdout",
     "output_type": "stream",
     "text": [
      "+----------+--------------------+--------------------+----------+--------------------+-------------+\n",
      "|tweet_date|             user_id|    screen_name_last|num_tweets|         source_list|hashtags_list|\n",
      "+----------+--------------------+--------------------+----------+--------------------+-------------+\n",
      "|2020-03-29|   &amp; Committe...|                NULL|         1|                  []|           []|\n",
      "|2020-03-29|           +   3'042|                NULL|         1|                  []|           []|\n",
      "|2020-03-29|  #chiaraferragni...| 1244352573676703744|         1|          [EsterSgb]|         [[]]|\n",
      "|2020-03-29|  17 se han recup...| Twitter for Android|         1|                  []|           []|\n",
      "|2020-03-29|         29 fighters|                NULL|         1|                  []|           []|\n",
      "|2020-03-29|           AC Milan.|                NULL|         1|                  []|           []|\n",
      "|2020-03-29|  Call 111-111-88...|                NULL|         1|                  []|           []|\n",
      "|2020-03-29|          Exhaustion| Medical Emergenc...|         1|                  []|           []|\n",
      "|2020-03-29|  Parar para avan...|                NULL|         1|                  []|           []|\n",
      "|2020-03-29|  bu duruma göz y...|                NULL|         1|                  []|           []|\n",
      "|2020-03-29|  de acuerdo al ú...| 169 han sido des...|         1|                  []|         [[]]|\n",
      "|2020-03-29|  homemade facema...|                NULL|         1|                  []|           []|\n",
      "|2020-03-29|  how much did he...|                NULL|         1|                  []|           []|\n",
      "|2020-03-29|  husband contrac...|                NULL|         1|                  []|           []|\n",
      "|2020-03-29|          physically| emotionally... #...|         1|[1244341066494607...|         [[]]|\n",
      "|2020-03-29|  some takes up t...|                NULL|         1|                  []|           []|\n",
      "|2020-03-29|  spreading #COVI...|                NULL|         1|                  []|           []|\n",
      "|2020-03-29|  though we belie...| Twitter for Android|         1|        [1670994350]|         [[]]|\n",
      "|2020-03-29|  wenn sich zB du...| 1243920676744019970|         1|   [ChristinaHolzel]|         [[]]|\n",
      "|2020-03-29|     what's going on|                   .|         1|                  []|           []|\n",
      "+----------+--------------------+--------------------+----------+--------------------+-------------+\n",
      "only showing top 20 rows\n",
      "\n"
     ]
    },
    {
     "name": "stderr",
     "output_type": "stream",
     "text": [
      "                                                                                \r"
     ]
    }
   ],
   "source": [
    "derived_df11 = derived_df1\\\n",
    ".groupBy(\n",
    "   \"tweet_date\",\n",
    "   \"user_id\",\n",
    "   \"screen_name_last\",\n",
    ").agg(\n",
    "   count(\"*\").alias(\"num_tweets\"),\n",
    "   collect_list(\"source\").alias(\"source_list\"),\n",
    "   collect_list(\"hashtags\").alias(\"hashtags_list\")\n",
    ")\n",
    "\n",
    "derived_df11 = derived_df11\\\n",
    "   .withColumn(\n",
    "      \"source_map\", \n",
    "      map_from_arrays(col(\"source_list\"), count(col(\"source_list\")))\n",
    ")\n",
    "\n",
    "derived_df11.show()"
   ]
  },
  {
   "cell_type": "code",
   "execution_count": null,
   "metadata": {},
   "outputs": [],
   "source": []
  }
 ],
 "metadata": {
  "kernelspec": {
   "display_name": "Python 3",
   "language": "python",
   "name": "python3"
  },
  "language_info": {
   "codemirror_mode": {
    "name": "ipython",
    "version": 3
   },
   "file_extension": ".py",
   "mimetype": "text/x-python",
   "name": "python",
   "nbconvert_exporter": "python",
   "pygments_lexer": "ipython3",
   "version": "3.9.18"
  }
 },
 "nbformat": 4,
 "nbformat_minor": 2
}
