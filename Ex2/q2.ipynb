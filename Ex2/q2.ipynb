{
 "cells": [
  {
   "cell_type": "code",
   "execution_count": 1,
   "metadata": {},
   "outputs": [],
   "source": [
    "from pyspark.sql import SparkSession\n",
    "from pyspark.sql.functions import col, collect_list, count, last, lag, row_number, substring_index, input_file_name, regexp_extract, expr, concat_ws, map_from_entries, explode, struct\n",
    "import pyspark.sql.functions as F\n",
    "from pyspark.sql.window import Window"
   ]
  },
  {
   "cell_type": "code",
   "execution_count": 2,
   "metadata": {},
   "outputs": [
    {
     "name": "stderr",
     "output_type": "stream",
     "text": [
      "24/03/25 01:37:08 WARN Utils: Your hostname, kWs-MacBook-Pro-2019.local resolves to a loopback address: 127.0.0.1; using 192.168.1.205 instead (on interface en0)\n",
      "24/03/25 01:37:08 WARN Utils: Set SPARK_LOCAL_IP if you need to bind to another address\n",
      "Setting default log level to \"WARN\".\n",
      "To adjust logging level use sc.setLogLevel(newLevel). For SparkR, use setLogLevel(newLevel).\n",
      "24/03/25 01:37:09 WARN NativeCodeLoader: Unable to load native-hadoop library for your platform... using builtin-java classes where applicable\n"
     ]
    }
   ],
   "source": [
    "sp = SparkSession.builder.getOrCreate()"
   ]
  },
  {
   "cell_type": "code",
   "execution_count": 3,
   "metadata": {},
   "outputs": [
    {
     "name": "stderr",
     "output_type": "stream",
     "text": [
      "                                                                                \r"
     ]
    },
    {
     "name": "stdout",
     "output_type": "stream",
     "text": [
      "+-------------------+-------------------+--------------------+---------------+--------------------+--------------------+------------------+----------------+--------------------+--------+----------+----------------+-------------+------------+---------------+----------+---------------+-------------+------------+--------------------+--------+----+----------+--------------------+\n",
      "|          status_id|            user_id|          created_at|    screen_name|                text|              source|reply_to_status_id|reply_to_user_id|reply_to_screen_name|is_quote|is_retweet|favourites_count|retweet_count|country_code|place_full_name|place_type|followers_count|friends_count|account_lang|  account_created_at|verified|lang|tweet_date|            hashtags|\n",
      "+-------------------+-------------------+--------------------+---------------+--------------------+--------------------+------------------+----------------+--------------------+--------+----------+----------------+-------------+------------+---------------+----------+---------------+-------------+------------+--------------------+--------+----+----------+--------------------+\n",
      "|1244051646071611394| 860252856829587457|2020-03-29T00:00:00Z|   IMSS_SanLuis|Ante cualquier en...|           TweetDeck|              NULL|            NULL|                NULL|   FALSE|     FALSE|             300|            0|        NULL|           NULL|      NULL|           1008|           41|        NULL|2017-05-04T22:00:38Z|   FALSE|  es|2020-03-29|[#Prevenci, #Coro...|\n",
      "|1244051645039706112|1125933654943895553|2020-03-29T00:00:00Z|     intrac_ccs|#ATENCIÓN En el T...|           TweetDeck|              NULL|            NULL|                NULL|   FALSE|     FALSE|            1030|            1|        NULL|           NULL|      NULL|             90|          316|        NULL|2019-05-08T01:21:16Z|   FALSE|  es|2020-03-29|[#ATENCI, #Corona...|\n",
      "|1244051645975191557|           80943559|2020-03-29T00:00:00Z|       rlieving|“People are just ...|           TweetDeck|              NULL|            NULL|                NULL|   FALSE|     FALSE|             604|            0|        NULL|           NULL|      NULL|            136|          457|        NULL|2009-10-08T21:06:08Z|   FALSE|  en|2020-03-29|[#minneapolis, #m...|\n",
      "|1244051646750928897| 817072420947247104|2020-03-29T00:00:00Z|   Tu_IMSS_Coah|Si empezaste a tr...|           TweetDeck|              NULL|            NULL|                NULL|   FALSE|     FALSE|            1827|            0|        NULL|           NULL|      NULL|           1549|          170|        NULL|2017-01-05T18:17:00Z|   FALSE|  es|2020-03-29|[#IMSS, #SanaDist...|\n",
      "|1244051647032102914| 788863557349670913|2020-03-29T00:00:00Z|   Tabasco_IMSS|Una sociedad info...|           TweetDeck|              NULL|            NULL|                NULL|   FALSE|     FALSE|             723|            0|        NULL|           NULL|      NULL|            868|          125|        NULL|2016-10-19T22:05:03Z|   FALSE|  es|2020-03-29|[#Coronavirus, #C...|\n",
      "|1244051645710897155|          132225222|2020-03-29T00:00:00Z|      SSalud_mx|¡#Infórmate! #Con...|           TweetDeck|              NULL|            NULL|                NULL|   FALSE|     FALSE|            3954|           49|        NULL|           NULL|      NULL|         812318|          212|        NULL|2010-04-12T16:53:45Z|    TRUE|  es|2020-03-29|[#Inf, #Conferenc...|\n",
      "|1244051646935633921|           27922157|2020-03-29T00:00:00Z|AmerMedicalAssn|.@PatriceHarrisMD...|            Sprinklr|              NULL|            NULL|                NULL|   FALSE|     FALSE|            2894|            3|        NULL|           NULL|      NULL|         714952|         6877|        NULL|2009-03-31T17:50:31Z|    TRUE|  en|2020-03-29|[#COVID19, #pande...|\n",
      "|1244051645971025920|         1115874631|2020-03-29T00:00:00Z|   CGTNOfficial|First medical tea...|Twitter Media Studio|              NULL|            NULL|                NULL|   FALSE|     FALSE|              65|           18|        NULL|           NULL|      NULL|       14040072|           55|        NULL|2013-01-24T03:18:59Z|    TRUE|  en|2020-03-29|[#Wuhan, #COVID19...|\n",
      "|1244051646151380995|         2547795564|2020-03-29T00:00:00Z|  Alaraby_Sport|هكذا ساهم نجم كرة...|           TweetDeck|              NULL|            NULL|                NULL|   FALSE|     FALSE|              36|            0|        NULL|           NULL|      NULL|          36953|         1003|        NULL|2014-06-05T09:50:31Z|    TRUE|  ar|2020-03-29|          [#COVID19]|\n",
      "|1244051647149543426|          108845320|2020-03-29T00:00:00Z|       OnTopMag|.@KathyGriffin: @...|Twitter for Adver...|              NULL|            NULL|                NULL|   FALSE|     FALSE|            2658|            1|        NULL|           NULL|      NULL|           5042|         5389|        NULL|2010-01-27T05:23:15Z|   FALSE|  en|2020-03-29|[#Coronavirus, #c...|\n",
      "|1244051645039693824|1042498579909107712|2020-03-29T00:00:00Z|ContraReplicaMX|A pesar de la con...|           TweetDeck|              NULL|            NULL|                NULL|   FALSE|     FALSE|            5671|            0|        NULL|           NULL|      NULL|          13287|         2559|        NULL|2018-09-19T19:40:04Z|   FALSE|  es|2020-03-29|          [#Covid19]|\n",
      "|1244051646469947399|          121849420|2020-03-29T00:00:00Z|        SSC_Pue|Ya sea a pie, en ...|           TweetDeck|              NULL|            NULL|                NULL|   FALSE|     FALSE|            1726|            3|        NULL|           NULL|      NULL|         297013|          223|        NULL|2010-03-10T20:04:51Z|   FALSE|  es|2020-03-29|     [#COVID19, #Qu]|\n",
      "|1244051645098528768|1239901273002033155|2020-03-29T00:00:00Z|        uri_911|#VEN911Oficial | ...|           TweetDeck|              NULL|            NULL|                NULL|   FALSE|     FALSE|             441|            0|        NULL|           NULL|      NULL|             66|           74|        NULL|2020-03-17T13:09:13Z|   FALSE|  es|2020-03-29|[#VEN911Oficial, ...|\n",
      "|1244051646113443841| 961689052977225729|2020-03-29T00:00:00Z|     SecAytoPue|¿Qué es el corona...|           TweetDeck|              NULL|            NULL|                NULL|   FALSE|     FALSE|             312|            0|        NULL|           NULL|      NULL|           2251|          788|        NULL|2018-02-08T19:51:52Z|   FALSE|  es|2020-03-29|          [#COVID19]|\n",
      "|1244051645102579712|           17673635|2020-03-29T00:00:00Z|       livemint|#CoronaUpdate | J...|           TweetDeck|              NULL|            NULL|                NULL|   FALSE|     FALSE|             474|            2|        NULL|           NULL|      NULL|        1862858|          127|        NULL|2008-11-27T09:07:38Z|    TRUE|  en|2020-03-29|[#CoronaUpdate, #...|\n",
      "|1244051647329779713|           34639484|2020-03-29T00:00:00Z|    DiarioLibre|| #Coronavirus | ...|           TweetDeck|              NULL|            NULL|                NULL|   FALSE|     FALSE|             321|           12|        NULL|           NULL|      NULL|        1185042|        23738|        NULL|2009-04-23T15:23:32Z|    TRUE|  es|2020-03-29|[#Coronavirus, #D...|\n",
      "|1244051646415425536|          167391967|2020-03-29T00:00:00Z|  lahoraecuador|Debido a la emerg...|           TweetDeck|              NULL|            NULL|                NULL|   FALSE|     FALSE|            2384|           19|        NULL|           NULL|      NULL|         534729|         1696|        NULL|2010-07-16T13:33:27Z|   FALSE|  es|2020-03-29|[#Ecuador, #Covid19]|\n",
      "|1244051647418044418|           15872418|2020-03-29T00:00:00Z|     ABSCBNNews|Singapore donates...|           TweetDeck|              NULL|            NULL|                NULL|   FALSE|     FALSE|            1073|          840|        NULL|           NULL|      NULL|        6767144|         1075|        NULL|2008-08-16T10:09:33Z|    TRUE|  en|2020-03-29|          [#COVID19]|\n",
      "|1244051646100967425| 805693014412763136|2020-03-29T00:00:00Z|dailyaajupdates|سعودی حکام نے امس...|           TweetDeck|              NULL|            NULL|                NULL|   FALSE|     FALSE|              18|            0|        NULL|           NULL|      NULL|           1325|           32|        NULL|2016-12-05T08:39:18Z|   FALSE|  ur|2020-03-29|[#DailyAAJUpdates...|\n",
      "|1244051645111074817|          171548670|2020-03-29T00:00:00Z|    RadioNLNews|It's been a remar...|           TweetDeck|              NULL|            NULL|                NULL|   FALSE|     FALSE|             498|            0|        NULL|           NULL|      NULL|           6929|         2137|        NULL|2010-07-27T16:17:02Z|   FALSE|  en|2020-03-29|[#COVID19, #bcpol...|\n",
      "+-------------------+-------------------+--------------------+---------------+--------------------+--------------------+------------------+----------------+--------------------+--------+----------+----------------+-------------+------------+---------------+----------+---------------+-------------+------------+--------------------+--------+----+----------+--------------------+\n",
      "only showing top 20 rows\n",
      "\n"
     ]
    }
   ],
   "source": [
    "src_df = sp.read\\\n",
    "   .option(\"escapeQuotes\", \"true\")\\\n",
    "   .option(\"multiLine\", \"true\")\\\n",
    "   .csv(\n",
    "      'csv/2020-03-29 Coronavirus Tweets.CSV', \n",
    "      header=True,\n",
    "      quote='\"',\n",
    "      escape='\\\"',\n",
    "   )\\\n",
    "   .withColumn(\n",
    "      \"tweet_date\", \n",
    "      regexp_extract(input_file_name(), \"/(\\d{4}-\\d{2}-\\d{2})\", 1)\n",
    "   )\\\n",
    "   .withColumn('hashtags', expr(r\"regexp_extract_all(text, '(#\\\\w+)', 0)\") )\n",
    "\n",
    "src_df.show()"
   ]
  },
  {
   "cell_type": "code",
   "execution_count": 100,
   "metadata": {},
   "outputs": [
    {
     "name": "stdout",
     "output_type": "stream",
     "text": [
      "+----------+-------------------+--------------------+--------------------+---------------+--------------------+\n",
      "|tweet_date|            user_id|            hashtags|              source|    screen_name|          created_at|\n",
      "+----------+-------------------+--------------------+--------------------+---------------+--------------------+\n",
      "|2020-03-29| 860252856829587457|[#Prevenci, #Coro...|           TweetDeck|   IMSS_SanLuis|2020-03-29T00:00:00Z|\n",
      "|2020-03-29|1125933654943895553|[#ATENCI, #Corona...|           TweetDeck|     intrac_ccs|2020-03-29T00:00:00Z|\n",
      "|2020-03-29|           80943559|[#minneapolis, #m...|           TweetDeck|       rlieving|2020-03-29T00:00:00Z|\n",
      "|2020-03-29| 817072420947247104|[#IMSS, #SanaDist...|           TweetDeck|   Tu_IMSS_Coah|2020-03-29T00:00:00Z|\n",
      "|2020-03-29| 788863557349670913|[#Coronavirus, #C...|           TweetDeck|   Tabasco_IMSS|2020-03-29T00:00:00Z|\n",
      "|2020-03-29|          132225222|[#Inf, #Conferenc...|           TweetDeck|      SSalud_mx|2020-03-29T00:00:00Z|\n",
      "|2020-03-29|           27922157|[#COVID19, #pande...|            Sprinklr|AmerMedicalAssn|2020-03-29T00:00:00Z|\n",
      "|2020-03-29|         1115874631|[#Wuhan, #COVID19...|Twitter Media Studio|   CGTNOfficial|2020-03-29T00:00:00Z|\n",
      "|2020-03-29|         2547795564|          [#COVID19]|           TweetDeck|  Alaraby_Sport|2020-03-29T00:00:00Z|\n",
      "|2020-03-29|          108845320|[#Coronavirus, #c...|Twitter for Adver...|       OnTopMag|2020-03-29T00:00:00Z|\n",
      "|2020-03-29|1042498579909107712|          [#Covid19]|           TweetDeck|ContraReplicaMX|2020-03-29T00:00:00Z|\n",
      "|2020-03-29|          121849420|     [#COVID19, #Qu]|           TweetDeck|        SSC_Pue|2020-03-29T00:00:00Z|\n",
      "|2020-03-29|1239901273002033155|[#VEN911Oficial, ...|           TweetDeck|        uri_911|2020-03-29T00:00:00Z|\n",
      "|2020-03-29| 961689052977225729|          [#COVID19]|           TweetDeck|     SecAytoPue|2020-03-29T00:00:00Z|\n",
      "|2020-03-29|           17673635|[#CoronaUpdate, #...|           TweetDeck|       livemint|2020-03-29T00:00:00Z|\n",
      "|2020-03-29|           34639484|[#Coronavirus, #D...|           TweetDeck|    DiarioLibre|2020-03-29T00:00:00Z|\n",
      "|2020-03-29|          167391967|[#Ecuador, #Covid19]|           TweetDeck|  lahoraecuador|2020-03-29T00:00:00Z|\n",
      "|2020-03-29|           15872418|          [#COVID19]|           TweetDeck|     ABSCBNNews|2020-03-29T00:00:00Z|\n",
      "|2020-03-29| 805693014412763136|[#DailyAAJUpdates...|           TweetDeck|dailyaajupdates|2020-03-29T00:00:00Z|\n",
      "|2020-03-29|          171548670|[#COVID19, #bcpol...|           TweetDeck|    RadioNLNews|2020-03-29T00:00:00Z|\n",
      "+----------+-------------------+--------------------+--------------------+---------------+--------------------+\n",
      "only showing top 20 rows\n",
      "\n"
     ]
    }
   ],
   "source": [
    "# q1\n",
    "\n",
    "derived_df1 = src_df.select(\n",
    "   \"tweet_date\",\n",
    "   \"user_id\",\n",
    "   \"hashtags\",\n",
    "   \"source\",\n",
    "   \"screen_name\",\n",
    "   \"created_at\",\n",
    ").withColumn(\n",
    "   \"screen_name\", \n",
    "   last(\"screen_name\")\\\n",
    "      .over(Window.partitionBy(\"user_id\", \"tweet_date\").orderBy(col(\"created_at\").desc()))\n",
    ")\n",
    "\n",
    "derived_df1.show()"
   ]
  },
  {
   "cell_type": "code",
   "execution_count": 121,
   "metadata": {},
   "outputs": [
    {
     "name": "stderr",
     "output_type": "stream",
     "text": [
      "[Stage 133:>                                                        (0 + 1) / 1]\r"
     ]
    },
    {
     "name": "stdout",
     "output_type": "stream",
     "text": [
      "+----------+-------------------+----------+--------------------+--------------------+---------------+\n",
      "|tweet_date|            user_id|num_tweets|            hashtags|       tweet_sources|    screen_name|\n",
      "+----------+-------------------+----------+--------------------+--------------------+---------------+\n",
      "|2020-03-29|         1000002758|         1|          [#COVID19]|{Twitter for Andr...| dreams_tiffany|\n",
      "|2020-03-29|1000044336103469057|         1|[#Cristo, #cristo...|{Twitter for iPho...|       ByteDeFe|\n",
      "|2020-03-29|1000051189986177025|         1|[#Covid_19, #Supp...|{Twitter for Andr...|     castjunkie|\n",
      "|2020-03-29|1000051619009003522|         1|[#lockdown, #COVI...|{Twitter for Andr...|affordablelawng|\n",
      "|2020-03-29|1000128817690705921|         2|         [#Covid_19]|{Twitter for Andr...|        AjammaS|\n",
      "|2020-03-29|1000128817690705921|         2|      [#coronavirus]|{Twitter for Andr...|        AjammaS|\n",
      "|2020-03-29|1000138722795491328|         1|          [#COVID19]|{Twitter for Andr...|  LiveCinemaMx1|\n",
      "|2020-03-29|1000155762478510081|         1|[#neksflis, #vaka...|{Twitter for Andr...|   ahmetcakar_1|\n",
      "|2020-03-29|1000156572906115072|         1|[#MexicoUnido, #M...|{Twitter for Andr...|RobertoSolori14|\n",
      "|2020-03-29|1000177695357976576|         1|[#corona, #corona...|    {Instagram -> 1}|    BaldinoRick|\n",
      "|2020-03-29|          100018348|         1|[#coronavirus, #C...|{Twitter for iPho...|  ricardo_neyra|\n",
      "|2020-03-29|1000191004450873344|         1|[#COVID19, #COVID...|{Twitter for Andr...|      CinemAwe_|\n",
      "|2020-03-29|1000192318874451968|         2|[#TrumpVirus, #Co...|{Twitter for iPho...|     annkim0502|\n",
      "|2020-03-29|1000192318874451968|         2|[#TrumpMadness, #...|{Twitter for iPho...|     annkim0502|\n",
      "|2020-03-29|1000206233868095488|         1|[#CoronaVirusUpda...|{Twitter for Andr...|          aytgh|\n",
      "|2020-03-29|1000226304346730497|         1|[#Covid_19, #Coro...|{Twitter for Andr...| alyan_hussnain|\n",
      "|2020-03-29|1000229942754533376|         1|[#coronavirus, #C...|{Twitter for Andr...| saucdgodsavage|\n",
      "|2020-03-29|1000247935148412928|         1|[#Sundaynightsup,...|{Twitter for Andr...|  Mike____kelly|\n",
      "|2020-03-29|         1000289028|         2|[#coronavirus, #N...|{Twitter for Andr...|       QariAsim|\n",
      "|2020-03-29|         1000289028|         2|[#Imams, #online,...|{Twitter for Andr...|       QariAsim|\n",
      "+----------+-------------------+----------+--------------------+--------------------+---------------+\n",
      "only showing top 20 rows\n",
      "\n"
     ]
    },
    {
     "name": "stderr",
     "output_type": "stream",
     "text": [
      "                                                                                \r"
     ]
    }
   ],
   "source": [
    "\n",
    "derived_df1 = derived_df1.groupBy(\n",
    "   \"tweet_date\",\n",
    "   \"user_id\",\n",
    ").agg(\n",
    "   count(\"*\").alias(\"num_tweets\"),\n",
    "   F.max(\"screen_name\").alias(\"screen_name\"),\n",
    "   collect_list(\"source\").alias(\"source_list\"),\n",
    "   collect_list(\"hashtags\").alias(\"hashtags\"),\n",
    ").withColumn(\n",
    "   \"source_count\", \n",
    "   F.size(\"source_list\")\n",
    ").withColumn(\n",
    "   \"tweet_sources\", \n",
    "   map_from_entries(\n",
    "      expr(\"transform(array_distinct(source_list), x -> struct(x, size(filter(source_list, y -> y = x))))\")\n",
    "   )\n",
    ").withColumn(\n",
    "   \"hashtags\",\n",
    "   explode(\"hashtags\")\n",
    ")\n",
    "\n",
    "derived_df1 = derived_df1.select(\n",
    "   \"tweet_date\",\n",
    "   \"user_id\",\n",
    "   \"num_tweets\",\n",
    "   \"hashtags\",\n",
    "   \"tweet_sources\",\n",
    "   \"screen_name\",\n",
    ")\n",
    "\n",
    "derived_df1.show()"
   ]
  },
  {
   "cell_type": "code",
   "execution_count": 21,
   "metadata": {},
   "outputs": [
    {
     "name": "stdout",
     "output_type": "stream",
     "text": [
      "+----------+-------------------+-------------------+-------------------+--------------------+\n",
      "|reply_date|      reply_user_id|   original_user_id| reply_to_status_id|            reply_at|\n",
      "+----------+-------------------+-------------------+-------------------+--------------------+\n",
      "|2020-03-29|           26663983|           67038807|1243928169243123712|2020-03-29T00:00:01Z|\n",
      "|2020-03-29| 705880882955968512|               NULL|               NULL|2020-03-29T00:00:01Z|\n",
      "|2020-03-29|1015324973051899904|               NULL|               NULL|2020-03-29T00:00:03Z|\n",
      "|2020-03-29|          322312808|               NULL|               NULL|2020-03-29T00:00:03Z|\n",
      "|2020-03-29|1208463505654812672|               NULL|               NULL|2020-03-29T00:00:05Z|\n",
      "|2020-03-29| 880962856467877888|               NULL|               NULL|2020-03-29T00:00:05Z|\n",
      "|2020-03-29|          139283160|               NULL|               NULL|2020-03-29T00:00:06Z|\n",
      "|2020-03-29|          205649776|               NULL|               NULL|2020-03-29T00:00:07Z|\n",
      "|2020-03-29|          176634419|               NULL|               NULL|2020-03-29T00:00:11Z|\n",
      "|2020-03-29|           78427460|               NULL|               NULL|2020-03-29T00:00:11Z|\n",
      "|2020-03-29|          724459069|               NULL|               NULL|2020-03-29T00:00:12Z|\n",
      "|2020-03-29|1238703545219768320|               NULL|               NULL|2020-03-29T00:00:12Z|\n",
      "|2020-03-29|         1019989321|         1019989321|1244051036072841216|2020-03-29T00:00:14Z|\n",
      "|2020-03-29|         1216303208|               NULL|               NULL|2020-03-29T00:00:14Z|\n",
      "|2020-03-29|         1564437038|               NULL|               NULL|2020-03-29T00:00:14Z|\n",
      "|2020-03-29| 723608486593073155|1011970623470489601|1244030173361700867|2020-03-29T00:00:14Z|\n",
      "|2020-03-29|           44798696|               NULL|               NULL|2020-03-29T00:00:18Z|\n",
      "|2020-03-29|          797432424|          296260628|               NULL|2020-03-29T00:00:19Z|\n",
      "|2020-03-29|          240532719|               NULL|               NULL|2020-03-29T00:00:21Z|\n",
      "|2020-03-29|1205306979041845250|               NULL|               NULL|2020-03-29T00:00:27Z|\n",
      "+----------+-------------------+-------------------+-------------------+--------------------+\n",
      "only showing top 20 rows\n",
      "\n"
     ]
    }
   ],
   "source": [
    "derived_df2_quote = src_df\\\n",
    ".filter(col(\"is_quote\") == \"TRUE\")\\\n",
    ".select(\n",
    "    \"tweet_date\",\n",
    "    \"user_id\",\n",
    "    \"reply_to_user_id\",\n",
    "    \"reply_to_status_id\",\n",
    "    \"created_at\",\n",
    ")\\\n",
    ".withColumnRenamed(\"user_id\", \"reply_user_id\")\\\n",
    ".withColumnRenamed(\"tweet_date\", \"reply_date\")\\\n",
    ".withColumnRenamed(\"reply_to_user_id\", \"original_user_id\")\\\n",
    ".withColumnRenamed(\"created_at\", \"reply_at\")\n",
    "\n",
    "\n",
    "derived_df2_quote.show()"
   ]
  },
  {
   "cell_type": "code",
   "execution_count": 29,
   "metadata": {},
   "outputs": [
    {
     "name": "stderr",
     "output_type": "stream",
     "text": [
      "[Stage 90:>                                                         (0 + 1) / 1]\r"
     ]
    },
    {
     "name": "stdout",
     "output_type": "stream",
     "text": [
      "+----------+-------------------+-------------------+--------------------+------------+\n",
      "|reply_date|      reply_user_id|   original_user_id|         reply_delay|tweet_number|\n",
      "+----------+-------------------+-------------------+--------------------+------------+\n",
      "|2020-03-29|          528479211|          528479211|INTERVAL '0 00:23...|           1|\n",
      "|2020-03-29|1089269762088157184|           68297567|INTERVAL '0 00:02...|           1|\n",
      "|2020-03-29|           57049566|           52544275|INTERVAL '0 06:06...|           1|\n",
      "|2020-03-29|1183474645414154240|1183474645414154240|INTERVAL '0 00:07...|           1|\n",
      "|2020-03-29|          493434642|          493434642|INTERVAL '0 00:07...|           1|\n",
      "|2020-03-29|           23023227|           23023227|INTERVAL '0 00:05...|           1|\n",
      "|2020-03-29|         1067293117|         1067293117|INTERVAL '0 00:01...|           1|\n",
      "|2020-03-29|1195054295999074304|         2854166772|INTERVAL '0 03:29...|           1|\n",
      "|2020-03-29|          888027091|          888027091|INTERVAL '0 00:10...|           1|\n",
      "|2020-03-29|          888027091|          888027091|INTERVAL '0 00:34...|           2|\n",
      "|2020-03-29|         2426459052|         2426459052|INTERVAL '0 01:32...|           1|\n",
      "|2020-03-29|           15388404|           15388404|INTERVAL '0 00:00...|           1|\n",
      "|2020-03-29| 872685323280678912| 872685323280678912|INTERVAL '0 00:26...|           1|\n",
      "|2020-03-29|           15388404|           15388404|INTERVAL '0 00:01...|           1|\n",
      "|2020-03-29|         4052449996|         4052449996|INTERVAL '0 00:00...|           1|\n",
      "|2020-03-29|         4052449996|         4052449996|INTERVAL '0 00:13...|           2|\n",
      "|2020-03-29|         2426459052|         2426459052|INTERVAL '0 01:08...|           1|\n",
      "|2020-03-29| 900971346556891136| 900971346556891136|INTERVAL '0 00:00...|           1|\n",
      "|2020-03-29| 900971346556891136| 900971346556891136|INTERVAL '0 01:28...|           2|\n",
      "|2020-03-29|          367876304|          367876304|INTERVAL '0 00:11...|           1|\n",
      "+----------+-------------------+-------------------+--------------------+------------+\n",
      "only showing top 20 rows\n",
      "\n"
     ]
    },
    {
     "name": "stderr",
     "output_type": "stream",
     "text": [
      "                                                                                \r"
     ]
    }
   ],
   "source": [
    "derived_df2 = derived_df2_quote.alias(\"df1\").join(\n",
    "   src_df.select(\n",
    "      \"user_id\",\n",
    "      \"created_at\",\n",
    "      \"status_id\",\n",
    "   ).alias(\"df2\"),\n",
    "   col(\"df1.reply_to_status_id\") == col(\"df2.status_id\"),\n",
    "   \"left\"\n",
    ").withColumn(\n",
    "   'reply_delay',\n",
    "   F.when(\n",
    "      col(\"status_id\").isNotNull(),\n",
    "      col(\"reply_at\").cast(\"timestamp\") - col(\"created_at\").cast(\"timestamp\"),\n",
    "   )\n",
    ").withColumn(\n",
    "   \"tweet_number\", \n",
    "   F.when(\n",
    "      col(\"status_id\").isNotNull(), \n",
    "      expr(\"row_number() OVER (PARTITION BY reply_to_status_id ORDER BY reply_at)\")\n",
    "   )\n",
    ")\n",
    "\n",
    "derived_df2 = derived_df2\\\n",
    ".filter(col('status_id').isNotNull())\\\n",
    ".select(\n",
    "   \"reply_date\",\n",
    "   \"reply_user_id\",\n",
    "   \"original_user_id\",\n",
    "   \"reply_delay\",\n",
    "   \"tweet_number\"\n",
    ")\n",
    "\n",
    "derived_df2.show()"
   ]
  },
  {
   "cell_type": "code",
   "execution_count": null,
   "metadata": {},
   "outputs": [],
   "source": [
    "derived_df2.filter(col('user_id').isNotNull()).show()"
   ]
  },
  {
   "cell_type": "code",
   "execution_count": 30,
   "metadata": {},
   "outputs": [],
   "source": [
    "# Q3"
   ]
  },
  {
   "cell_type": "code",
   "execution_count": 38,
   "metadata": {},
   "outputs": [
    {
     "name": "stderr",
     "output_type": "stream",
     "text": [
      "[Stage 112:>                                                        (0 + 1) / 1]\r"
     ]
    },
    {
     "name": "stdout",
     "output_type": "stream",
     "text": [
      "+-------------------+---------------+---------------+-----------+\n",
      "|            user_id|    screen_name|old_screen_name|change_date|\n",
      "+-------------------+---------------+---------------+-----------+\n",
      "|1189542607245852673|      mskltccrc|HI66iiMDHyzU8oM| 2020-03-29|\n",
      "|1228380016519647235|IprQa_AcPqIlIzx|ipr_ioZvQaPlIIb| 2020-03-29|\n",
      "|1238870792500391936|     StoicUnity|   Tu_mamA_mama| 2020-03-29|\n",
      "|1243516299067772928|  Infosglobales| InfosDigitales| 2020-03-29|\n",
      "|1244367538529669120| BlackmanAndR88|      KanyeWI89| 2020-03-29|\n",
      "| 907725168742735872|     gift_adene|    Real_Moses1| 2020-03-29|\n",
      "| 907725168742735872|    Iam_Joshua5|     gift_adene| 2020-03-29|\n",
      "|1092355973975552000|Engr_Azhar_Shah|        EazharS| 2020-03-29|\n",
      "|1110883404491444225|PurpleIsPowrful|ruthforcongress| 2020-03-29|\n",
      "|1192900241613377539| ImForAllHumans|   Michael4Yang| 2020-03-29|\n",
      "|1224792058210267136|  AmiRFaRooq787|  AmiRFaRooq789| 2020-03-29|\n",
      "|1229771933518045184|AlbaBarrenetxea|   Alba02208797| 2020-03-29|\n",
      "|          330014113|        YrBases| 90SecondCrafts| 2020-03-29|\n",
      "|          449093135|     itsriavale|     valelaltra| 2020-03-29|\n",
      "|          461841349|        ZeeNews|   ZeeNewsHindi| 2020-03-29|\n",
      "|         4835167894|       seljak_b|        SeljakB| 2020-03-29|\n",
      "| 964249757223878656| wakabalapakaba| wakabalaplante| 2020-03-29|\n",
      "| 964249757223878656| wakabalaplante| wakabalapakaba| 2020-03-29|\n",
      "| 964249757223878656| wakabalapakaba| wakabalaplante| 2020-03-29|\n",
      "|1010037119606288384|pvkinfotainment|ManiKarantweets| 2020-03-29|\n",
      "+-------------------+---------------+---------------+-----------+\n",
      "only showing top 20 rows\n",
      "\n"
     ]
    },
    {
     "name": "stderr",
     "output_type": "stream",
     "text": [
      "                                                                                \r"
     ]
    }
   ],
   "source": [
    "derived_df3 = src_df.select(\n",
    "   \"user_id\", \n",
    "   \"screen_name\", \n",
    "   \"created_at\"\n",
    ").withColumn(\n",
    "   \"old_screen_name\",\n",
    "   F.lag(\"screen_name\", 1).over(\n",
    "      Window.partitionBy(\"user_id\").orderBy(col(\"created_at\").asc())\n",
    "   )\n",
    ").filter(\n",
    "   col(\"old_screen_name\") != col(\"screen_name\")\n",
    ").withColumn(\n",
    "   \"change_date\",\n",
    "   F.substring(\"created_at\", 1, 10)\n",
    ").drop(\"created_at\")\n",
    "\n",
    "derived_df3.show()"
   ]
  },
  {
   "cell_type": "code",
   "execution_count": null,
   "metadata": {},
   "outputs": [],
   "source": [
    "df3 = df3.withColumn(\"change_date\", expr(\"substring_index(input_file_name(), '/', -1)\"))\n",
    "df3 = df3.withColumnRenamed(\"screen_name\", \"new_screen_name\")\n",
    "df3 = df3.withColumn(\"old_screen_name\", when(col(\"change_date\") == col(\"created_at\").substr(1, 10), None).otherwise(col(\"screen_name\")))\n",
    "df3 = df3.drop(\"created_at\")"
   ]
  },
  {
   "cell_type": "code",
   "execution_count": null,
   "metadata": {},
   "outputs": [],
   "source": []
  }
 ],
 "metadata": {
  "kernelspec": {
   "display_name": "Python 3",
   "language": "python",
   "name": "python3"
  },
  "language_info": {
   "codemirror_mode": {
    "name": "ipython",
    "version": 3
   },
   "file_extension": ".py",
   "mimetype": "text/x-python",
   "name": "python",
   "nbconvert_exporter": "python",
   "pygments_lexer": "ipython3",
   "version": "3.9.18"
  }
 },
 "nbformat": 4,
 "nbformat_minor": 2
}
